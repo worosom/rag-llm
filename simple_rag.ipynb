{
 "cells": [
  {
   "cell_type": "markdown",
   "id": "606986be-fd43-4b0f-b69b-02250e57e4b0",
   "metadata": {},
   "source": [
    "### Necessary imports"
   ]
  },
  {
   "cell_type": "code",
   "execution_count": null,
   "id": "ae9d6495-af97-405d-b4d6-63b322cb82d5",
   "metadata": {
    "tags": []
   },
   "outputs": [],
   "source": [
    "!pip install -q -U torch datasets transformers tensorflow langchain playwright html2text sentence_transformers faiss-cpu\n",
    "!pip install --upgrade -qr requirements.txt"
   ]
  },
  {
   "cell_type": "markdown",
   "id": "bacdda41-708b-4af8-88a9-5056cbd08bf4",
   "metadata": {},
   "source": [
    "### Dependencies"
   ]
  },
  {
   "cell_type": "code",
   "execution_count": 2,
   "id": "505ca9a3-8c27-442e-bca6-154a65186d01",
   "metadata": {
    "tags": []
   },
   "outputs": [
    {
     "name": "stderr",
     "output_type": "stream",
     "text": [
      "2024-02-25 23:00:04.881631: E external/local_xla/xla/stream_executor/cuda/cuda_dnn.cc:9261] Unable to register cuDNN factory: Attempting to register factory for plugin cuDNN when one has already been registered\n",
      "2024-02-25 23:00:04.881687: E external/local_xla/xla/stream_executor/cuda/cuda_fft.cc:607] Unable to register cuFFT factory: Attempting to register factory for plugin cuFFT when one has already been registered\n",
      "2024-02-25 23:00:04.882845: E external/local_xla/xla/stream_executor/cuda/cuda_blas.cc:1515] Unable to register cuBLAS factory: Attempting to register factory for plugin cuBLAS when one has already been registered\n",
      "2024-02-25 23:00:04.889738: I tensorflow/core/platform/cpu_feature_guard.cc:182] This TensorFlow binary is optimized to use available CPU instructions in performance-critical operations.\n",
      "To enable the following instructions: AVX2 FMA, in other operations, rebuild TensorFlow with the appropriate compiler flags.\n",
      "2024-02-25 23:00:06.047239: W tensorflow/compiler/tf2tensorrt/utils/py_utils.cc:38] TF-TRT Warning: Could not find TensorRT\n"
     ]
    }
   ],
   "source": [
    "import os\n",
    "import torch\n",
    "from transformers import (\n",
    "    AutoModelForCausalLM,\n",
    "    AutoTokenizer,\n",
    "    BitsAndBytesConfig,\n",
    "    pipeline\n",
    ")\n",
    "from datasets import load_dataset\n",
    "from peft import LoraConfig, PeftModel\n",
    "\n",
    "from langchain.text_splitter import CharacterTextSplitter\n",
    "from langchain.document_transformers import Html2TextTransformer\n",
    "from langchain.document_loaders import AsyncChromiumLoader\n",
    "\n",
    "from langchain.embeddings.huggingface import HuggingFaceEmbeddings\n",
    "from langchain.vectorstores import FAISS\n",
    "\n",
    "from langchain.prompts import PromptTemplate\n",
    "from langchain.schema.runnable import RunnablePassthrough\n",
    "from langchain.llms import HuggingFacePipeline\n",
    "from langchain.chains import LLMChain"
   ]
  },
  {
   "cell_type": "markdown",
   "id": "180f8d4e-a8bf-4389-b046-9827b310a3b3",
   "metadata": {},
   "source": [
    "### Load quantized Mistal 7B"
   ]
  },
  {
   "cell_type": "code",
   "execution_count": 2,
   "id": "80f94e97-7e58-4253-9376-73af6f36e139",
   "metadata": {
    "tags": []
   },
   "outputs": [
    {
     "name": "stdout",
     "output_type": "stream",
     "text": [
      "================================================================================\n",
      "Your GPU supports bfloat16: accelerate training with bf16=True\n",
      "================================================================================\n"
     ]
    },
    {
     "data": {
      "application/vnd.jupyter.widget-view+json": {
       "model_id": "f05b94b1eec04bf8a6c54cd3d87502e4",
       "version_major": 2,
       "version_minor": 0
      },
      "text/plain": [
       "Loading checkpoint shards:   0%|          | 0/19 [00:00<?, ?it/s]"
      ]
     },
     "metadata": {},
     "output_type": "display_data"
    },
    {
     "name": "stderr",
     "output_type": "stream",
     "text": [
      "You are calling `save_pretrained` to a 4-bit converted model, but your `bitsandbytes` version doesn't support it. If you want to save 4-bit models, make sure to have `bitsandbytes>=0.41.3` installed.\n"
     ]
    }
   ],
   "source": [
    "#################################################################\n",
    "# Tokenizer\n",
    "#################################################################\n",
    "\n",
    "model_name='mistralai/Mixtral-8x7B-Instruct-v0.1'\n",
    "\n",
    "tokenizer = AutoTokenizer.from_pretrained(model_name, cache_dir='/raid/alex/cache', trust_remote_code=True)\n",
    "tokenizer.pad_token = tokenizer.eos_token\n",
    "tokenizer.padding_side = \"right\"\n",
    "\n",
    "#################################################################\n",
    "# bitsandbytes parameters\n",
    "#################################################################\n",
    "\n",
    "# Activate 4-bit precision base model loading\n",
    "use_4bit = True\n",
    "\n",
    "# Compute dtype for 4-bit base models\n",
    "bnb_4bit_compute_dtype = \"float16\"\n",
    "\n",
    "# Quantization type (fp4 or nf4)\n",
    "bnb_4bit_quant_type = \"nf4\"\n",
    "\n",
    "# Activate nested quantization for 4-bit base models (double quantization)\n",
    "use_nested_quant = False\n",
    "\n",
    "#################################################################\n",
    "# Set up quantization config\n",
    "#################################################################\n",
    "compute_dtype = getattr(torch, bnb_4bit_compute_dtype)\n",
    "\n",
    "bnb_config = BitsAndBytesConfig(\n",
    "    load_in_4bit=use_4bit,\n",
    "    bnb_4bit_quant_type=bnb_4bit_quant_type,\n",
    "    bnb_4bit_compute_dtype=compute_dtype,\n",
    "    bnb_4bit_use_double_quant=use_nested_quant,\n",
    ")\n",
    "\n",
    "# Check GPU compatibility with bfloat16\n",
    "if compute_dtype == torch.float16 and use_4bit:\n",
    "    major, _ = torch.cuda.get_device_capability()\n",
    "    if major >= 8:\n",
    "        print(\"=\" * 80)\n",
    "        print(\"Your GPU supports bfloat16: accelerate training with bf16=True\")\n",
    "        print(\"=\" * 80)\n",
    "\n",
    "#################################################################\n",
    "# Load pre-trained config\n",
    "#################################################################\n",
    "model = AutoModelForCausalLM.from_pretrained(\n",
    "    model_name,\n",
    "    quantization_config=bnb_config,\n",
    "    cache_dir='/raid/alex/cache',\n",
    "    revision=\"refs/pr/5\",\n",
    "    device_map='auto',\n",
    ")"
   ]
  },
  {
   "cell_type": "markdown",
   "id": "e7fb199a-a537-4bd7-9888-d43a84c8ff69",
   "metadata": {},
   "source": [
    "### Count number of trainable parameters"
   ]
  },
  {
   "cell_type": "code",
   "execution_count": 3,
   "id": "91d2a86e-69e8-496f-b388-853168537c20",
   "metadata": {
    "tags": []
   },
   "outputs": [
    {
     "name": "stdout",
     "output_type": "stream",
     "text": [
      "trainable model parameters: 262410240\n",
      "all model parameters: 23482601472\n",
      "percentage of trainable model parameters: 1.12%\n"
     ]
    }
   ],
   "source": [
    "def print_number_of_trainable_model_parameters(model):\n",
    "    trainable_model_params = 0\n",
    "    all_model_params = 0\n",
    "    for _, param in model.named_parameters():\n",
    "        all_model_params += param.numel()\n",
    "        if param.requires_grad:\n",
    "            trainable_model_params += param.numel()\n",
    "    return f\"trainable model parameters: {trainable_model_params}\\nall model parameters: {all_model_params}\\npercentage of trainable model parameters: {100 * trainable_model_params / all_model_params:.2f}%\"\n",
    "\n",
    "print(print_number_of_trainable_model_parameters(model))"
   ]
  },
  {
   "cell_type": "markdown",
   "id": "5a38c760-f5c8-49c6-9c0c-80719557fee5",
   "metadata": {},
   "source": [
    "### Build Mistral text generation pipeline"
   ]
  },
  {
   "cell_type": "code",
   "execution_count": 4,
   "id": "8c613429-9e6c-4a1e-bc9c-579eb152434b",
   "metadata": {
    "tags": []
   },
   "outputs": [],
   "source": [
    "text_generation_pipeline = pipeline(\n",
    "    model=model,\n",
    "    tokenizer=tokenizer,\n",
    "    task=\"text-generation\",\n",
    "    temperature=0.2,\n",
    "    use_sample=True,\n",
    "    repetition_penalty=1.1,\n",
    "    return_full_text=True,\n",
    "    max_new_tokens=1000,\n",
    ")"
   ]
  },
  {
   "cell_type": "code",
   "execution_count": 5,
   "id": "c859dd05-9114-42f1-81f2-52a28b7efdd7",
   "metadata": {
    "tags": []
   },
   "outputs": [],
   "source": [
    "mistral_llm = HuggingFacePipeline(pipeline=text_generation_pipeline)"
   ]
  },
  {
   "cell_type": "markdown",
   "id": "e3a07789-78f5-498c-987b-9ed3eb459fe6",
   "metadata": {},
   "source": [
    "### Load and chunk documents. Load chunked documents into FAISS index "
   ]
  },
  {
   "cell_type": "code",
   "execution_count": 8,
   "id": "79a2e41f-aee3-47ff-92a1-74970f3b313a",
   "metadata": {
    "tags": []
   },
   "outputs": [],
   "source": [
    "import nest_asyncio\n",
    "nest_asyncio.apply()\n",
    "\n",
    "# Articles to index\n",
    "articles = [\"https://www.fantasypros.com/2023/11/rival-fantasy-nfl-week-10/\",\n",
    "            \"https://www.fantasypros.com/2023/11/5-stats-to-know-before-setting-your-fantasy-lineup-week-10/\",\n",
    "            \"https://www.fantasypros.com/2023/11/nfl-week-10-sleeper-picks-player-predictions-2023/\",\n",
    "            \"https://www.fantasypros.com/2023/11/nfl-dfs-week-10-stacking-advice-picks-2023-fantasy-football/\",\n",
    "            \"https://www.fantasypros.com/2023/11/players-to-buy-low-sell-high-trade-advice-2023-fantasy-football/\"]\n",
    "\n",
    "# Scrapes the blogs above\n",
    "loader = AsyncChromiumLoader(articles)\n",
    "docs = loader.load()"
   ]
  },
  {
   "cell_type": "code",
   "execution_count": 9,
   "id": "ff328fea-b7c7-4ca3-915c-39c0ebaa2f7a",
   "metadata": {
    "scrolled": true,
    "tags": []
   },
   "outputs": [
    {
     "name": "stderr",
     "output_type": "stream",
     "text": [
      "Created a chunk of size 130, which is longer than the specified 100\n",
      "Created a chunk of size 4706, which is longer than the specified 100\n",
      "Created a chunk of size 131, which is longer than the specified 100\n",
      "Created a chunk of size 230, which is longer than the specified 100\n",
      "Created a chunk of size 500, which is longer than the specified 100\n",
      "Created a chunk of size 207, which is longer than the specified 100\n",
      "Created a chunk of size 365, which is longer than the specified 100\n",
      "Created a chunk of size 312, which is longer than the specified 100\n",
      "Created a chunk of size 515, which is longer than the specified 100\n",
      "Created a chunk of size 584, which is longer than the specified 100\n",
      "Created a chunk of size 1119, which is longer than the specified 100\n",
      "Created a chunk of size 257, which is longer than the specified 100\n",
      "Created a chunk of size 103, which is longer than the specified 100\n",
      "Created a chunk of size 136, which is longer than the specified 100\n",
      "Created a chunk of size 230, which is longer than the specified 100\n",
      "Created a chunk of size 105, which is longer than the specified 100\n",
      "Created a chunk of size 133, which is longer than the specified 100\n",
      "Created a chunk of size 224, which is longer than the specified 100\n",
      "Created a chunk of size 120, which is longer than the specified 100\n",
      "Created a chunk of size 232, which is longer than the specified 100\n",
      "Created a chunk of size 118, which is longer than the specified 100\n",
      "Created a chunk of size 142, which is longer than the specified 100\n",
      "Created a chunk of size 130, which is longer than the specified 100\n",
      "Created a chunk of size 4706, which is longer than the specified 100\n",
      "Created a chunk of size 567, which is longer than the specified 100\n",
      "Created a chunk of size 316, which is longer than the specified 100\n",
      "Created a chunk of size 136, which is longer than the specified 100\n",
      "Created a chunk of size 249, which is longer than the specified 100\n",
      "Created a chunk of size 113, which is longer than the specified 100\n",
      "Created a chunk of size 449, which is longer than the specified 100\n",
      "Created a chunk of size 137, which is longer than the specified 100\n",
      "Created a chunk of size 201, which is longer than the specified 100\n",
      "Created a chunk of size 132, which is longer than the specified 100\n",
      "Created a chunk of size 479, which is longer than the specified 100\n",
      "Created a chunk of size 216, which is longer than the specified 100\n",
      "Created a chunk of size 138, which is longer than the specified 100\n",
      "Created a chunk of size 172, which is longer than the specified 100\n",
      "Created a chunk of size 183, which is longer than the specified 100\n",
      "Created a chunk of size 140, which is longer than the specified 100\n",
      "Created a chunk of size 180, which is longer than the specified 100\n",
      "Created a chunk of size 118, which is longer than the specified 100\n",
      "Created a chunk of size 114, which is longer than the specified 100\n",
      "Created a chunk of size 194, which is longer than the specified 100\n",
      "Created a chunk of size 533, which is longer than the specified 100\n",
      "Created a chunk of size 446, which is longer than the specified 100\n",
      "Created a chunk of size 141, which is longer than the specified 100\n",
      "Created a chunk of size 120, which is longer than the specified 100\n",
      "Created a chunk of size 317, which is longer than the specified 100\n",
      "Created a chunk of size 142, which is longer than the specified 100\n",
      "Created a chunk of size 120, which is longer than the specified 100\n",
      "Created a chunk of size 232, which is longer than the specified 100\n",
      "Created a chunk of size 118, which is longer than the specified 100\n",
      "Created a chunk of size 142, which is longer than the specified 100\n",
      "Created a chunk of size 130, which is longer than the specified 100\n",
      "Created a chunk of size 4706, which is longer than the specified 100\n",
      "Created a chunk of size 450, which is longer than the specified 100\n",
      "Created a chunk of size 125, which is longer than the specified 100\n",
      "Created a chunk of size 133, which is longer than the specified 100\n",
      "Created a chunk of size 462, which is longer than the specified 100\n",
      "Created a chunk of size 178, which is longer than the specified 100\n",
      "Created a chunk of size 469, which is longer than the specified 100\n",
      "Created a chunk of size 432, which is longer than the specified 100\n",
      "Created a chunk of size 380, which is longer than the specified 100\n",
      "Created a chunk of size 105, which is longer than the specified 100\n",
      "Created a chunk of size 133, which is longer than the specified 100\n",
      "Created a chunk of size 132, which is longer than the specified 100\n",
      "Created a chunk of size 120, which is longer than the specified 100\n",
      "Created a chunk of size 232, which is longer than the specified 100\n",
      "Created a chunk of size 118, which is longer than the specified 100\n",
      "Created a chunk of size 142, which is longer than the specified 100\n",
      "Created a chunk of size 130, which is longer than the specified 100\n",
      "Created a chunk of size 4706, which is longer than the specified 100\n",
      "Created a chunk of size 178, which is longer than the specified 100\n",
      "Created a chunk of size 422, which is longer than the specified 100\n",
      "Created a chunk of size 282, which is longer than the specified 100\n",
      "Created a chunk of size 498, which is longer than the specified 100\n",
      "Created a chunk of size 164, which is longer than the specified 100\n",
      "Created a chunk of size 413, which is longer than the specified 100\n",
      "Created a chunk of size 242, which is longer than the specified 100\n",
      "Created a chunk of size 203, which is longer than the specified 100\n",
      "Created a chunk of size 456, which is longer than the specified 100\n",
      "Created a chunk of size 404, which is longer than the specified 100\n",
      "Created a chunk of size 145, which is longer than the specified 100\n",
      "Created a chunk of size 127, which is longer than the specified 100\n",
      "Created a chunk of size 232, which is longer than the specified 100\n",
      "Created a chunk of size 139, which is longer than the specified 100\n",
      "Created a chunk of size 221, which is longer than the specified 100\n",
      "Created a chunk of size 154, which is longer than the specified 100\n",
      "Created a chunk of size 121, which is longer than the specified 100\n",
      "Created a chunk of size 380, which is longer than the specified 100\n",
      "Created a chunk of size 234, which is longer than the specified 100\n",
      "Created a chunk of size 123, which is longer than the specified 100\n",
      "Created a chunk of size 230, which is longer than the specified 100\n",
      "Created a chunk of size 346, which is longer than the specified 100\n",
      "Created a chunk of size 142, which is longer than the specified 100\n",
      "Created a chunk of size 120, which is longer than the specified 100\n",
      "Created a chunk of size 232, which is longer than the specified 100\n",
      "Created a chunk of size 118, which is longer than the specified 100\n",
      "Created a chunk of size 142, which is longer than the specified 100\n",
      "Created a chunk of size 130, which is longer than the specified 100\n",
      "Created a chunk of size 4706, which is longer than the specified 100\n",
      "Created a chunk of size 403, which is longer than the specified 100\n",
      "Created a chunk of size 146, which is longer than the specified 100\n",
      "Created a chunk of size 136, which is longer than the specified 100\n",
      "Created a chunk of size 267, which is longer than the specified 100\n",
      "Created a chunk of size 203, which is longer than the specified 100\n",
      "Created a chunk of size 541, which is longer than the specified 100\n",
      "Created a chunk of size 120, which is longer than the specified 100\n",
      "Created a chunk of size 299, which is longer than the specified 100\n",
      "Created a chunk of size 324, which is longer than the specified 100\n",
      "Created a chunk of size 281, which is longer than the specified 100\n",
      "Created a chunk of size 304, which is longer than the specified 100\n",
      "Created a chunk of size 333, which is longer than the specified 100\n",
      "Created a chunk of size 457, which is longer than the specified 100\n",
      "Created a chunk of size 420, which is longer than the specified 100\n",
      "Created a chunk of size 528, which is longer than the specified 100\n",
      "Created a chunk of size 154, which is longer than the specified 100\n",
      "Created a chunk of size 591, which is longer than the specified 100\n",
      "Created a chunk of size 633, which is longer than the specified 100\n",
      "Created a chunk of size 128, which is longer than the specified 100\n",
      "Created a chunk of size 235, which is longer than the specified 100\n",
      "Created a chunk of size 303, which is longer than the specified 100\n",
      "Created a chunk of size 658, which is longer than the specified 100\n",
      "Created a chunk of size 155, which is longer than the specified 100\n",
      "Created a chunk of size 236, which is longer than the specified 100\n",
      "Created a chunk of size 519, which is longer than the specified 100\n",
      "Created a chunk of size 172, which is longer than the specified 100\n",
      "Created a chunk of size 161, which is longer than the specified 100\n",
      "Created a chunk of size 438, which is longer than the specified 100\n",
      "Created a chunk of size 333, which is longer than the specified 100\n",
      "Created a chunk of size 581, which is longer than the specified 100\n",
      "Created a chunk of size 183, which is longer than the specified 100\n",
      "Created a chunk of size 431, which is longer than the specified 100\n",
      "Created a chunk of size 207, which is longer than the specified 100\n",
      "Created a chunk of size 242, which is longer than the specified 100\n",
      "Created a chunk of size 573, which is longer than the specified 100\n",
      "Created a chunk of size 204, which is longer than the specified 100\n",
      "Created a chunk of size 105, which is longer than the specified 100\n",
      "Created a chunk of size 741, which is longer than the specified 100\n",
      "Created a chunk of size 120, which is longer than the specified 100\n",
      "Created a chunk of size 232, which is longer than the specified 100\n",
      "Created a chunk of size 118, which is longer than the specified 100\n",
      "Created a chunk of size 142, which is longer than the specified 100\n"
     ]
    },
    {
     "data": {
      "application/vnd.jupyter.widget-view+json": {
       "model_id": "7c8bf4ad60ca4ce39af61596bc6c5d11",
       "version_major": 2,
       "version_minor": 0
      },
      "text/plain": [
       "modules.json:   0%|          | 0.00/349 [00:00<?, ?B/s]"
      ]
     },
     "metadata": {},
     "output_type": "display_data"
    },
    {
     "data": {
      "application/vnd.jupyter.widget-view+json": {
       "model_id": "be1b360785764276a8548697221389f7",
       "version_major": 2,
       "version_minor": 0
      },
      "text/plain": [
       "config_sentence_transformers.json:   0%|          | 0.00/116 [00:00<?, ?B/s]"
      ]
     },
     "metadata": {},
     "output_type": "display_data"
    },
    {
     "data": {
      "application/vnd.jupyter.widget-view+json": {
       "model_id": "8b8780937b8845bc868922cc8c8717cf",
       "version_major": 2,
       "version_minor": 0
      },
      "text/plain": [
       "README.md:   0%|          | 0.00/10.6k [00:00<?, ?B/s]"
      ]
     },
     "metadata": {},
     "output_type": "display_data"
    },
    {
     "data": {
      "application/vnd.jupyter.widget-view+json": {
       "model_id": "ac3d25c72fa340708d3318c9dec51033",
       "version_major": 2,
       "version_minor": 0
      },
      "text/plain": [
       "sentence_bert_config.json:   0%|          | 0.00/53.0 [00:00<?, ?B/s]"
      ]
     },
     "metadata": {},
     "output_type": "display_data"
    },
    {
     "data": {
      "application/vnd.jupyter.widget-view+json": {
       "model_id": "181f5ca92c4f49da9aa29b936b4bb7ed",
       "version_major": 2,
       "version_minor": 0
      },
      "text/plain": [
       "config.json:   0%|          | 0.00/571 [00:00<?, ?B/s]"
      ]
     },
     "metadata": {},
     "output_type": "display_data"
    },
    {
     "data": {
      "application/vnd.jupyter.widget-view+json": {
       "model_id": "6949dfadf08a4feb9aa17f5e5f2e6f16",
       "version_major": 2,
       "version_minor": 0
      },
      "text/plain": [
       "pytorch_model.bin:   0%|          | 0.00/438M [00:00<?, ?B/s]"
      ]
     },
     "metadata": {},
     "output_type": "display_data"
    },
    {
     "data": {
      "application/vnd.jupyter.widget-view+json": {
       "model_id": "cc45ba797baf4006be697e022a07da3e",
       "version_major": 2,
       "version_minor": 0
      },
      "text/plain": [
       "tokenizer_config.json:   0%|          | 0.00/363 [00:00<?, ?B/s]"
      ]
     },
     "metadata": {},
     "output_type": "display_data"
    },
    {
     "data": {
      "application/vnd.jupyter.widget-view+json": {
       "model_id": "1f46f9cc46914e0eba7ba8cd88eaabfd",
       "version_major": 2,
       "version_minor": 0
      },
      "text/plain": [
       "vocab.txt:   0%|          | 0.00/232k [00:00<?, ?B/s]"
      ]
     },
     "metadata": {},
     "output_type": "display_data"
    },
    {
     "data": {
      "application/vnd.jupyter.widget-view+json": {
       "model_id": "c56308a8ac914474b124b1d68c38b9c4",
       "version_major": 2,
       "version_minor": 0
      },
      "text/plain": [
       "tokenizer.json:   0%|          | 0.00/466k [00:00<?, ?B/s]"
      ]
     },
     "metadata": {},
     "output_type": "display_data"
    },
    {
     "data": {
      "application/vnd.jupyter.widget-view+json": {
       "model_id": "cb58d8894cd84514a88773629fb9c30d",
       "version_major": 2,
       "version_minor": 0
      },
      "text/plain": [
       "special_tokens_map.json:   0%|          | 0.00/239 [00:00<?, ?B/s]"
      ]
     },
     "metadata": {},
     "output_type": "display_data"
    },
    {
     "data": {
      "application/vnd.jupyter.widget-view+json": {
       "model_id": "b4267263bda24692bcacaac66a3355e8",
       "version_major": 2,
       "version_minor": 0
      },
      "text/plain": [
       "1_Pooling/config.json:   0%|          | 0.00/190 [00:00<?, ?B/s]"
      ]
     },
     "metadata": {},
     "output_type": "display_data"
    }
   ],
   "source": [
    "# Converts HTML to plain text \n",
    "html2text = Html2TextTransformer()\n",
    "docs_transformed = html2text.transform_documents(docs)\n",
    "\n",
    "# Chunk text\n",
    "text_splitter = CharacterTextSplitter(chunk_size=100, \n",
    "                                      chunk_overlap=0)\n",
    "chunked_documents = text_splitter.split_documents(docs_transformed)\n",
    "\n",
    "# Load chunked documents into the FAISS index\n",
    "db = FAISS.from_documents(chunked_documents, \n",
    "                          HuggingFaceEmbeddings(model_name='sentence-transformers/all-mpnet-base-v2'))\n",
    "\n",
    "retriever = db.as_retriever()"
   ]
  },
  {
   "cell_type": "code",
   "execution_count": 1,
   "id": "9a905c3f-c4ca-415b-bee4-b3302679118a",
   "metadata": {
    "scrolled": true
   },
   "outputs": [
    {
     "name": "stderr",
     "output_type": "stream",
     "text": [
      "1\n",
      "PDF text extraction failed, skip text extraction...\n"
     ]
    },
    {
     "ename": "TesseractNotFoundError",
     "evalue": "tesseract is not installed or it's not in your PATH. See README file for more information.",
     "output_type": "error",
     "traceback": [
      "\u001b[0;31m---------------------------------------------------------------------------\u001b[0m",
      "\u001b[0;31mFileNotFoundError\u001b[0m                         Traceback (most recent call last)",
      "File \u001b[0;32m~/.pyenv/versions/3.11.7/envs/rag/lib/python3.11/site-packages/unstructured_pytesseract/pytesseract.py:446\u001b[0m, in \u001b[0;36mget_tesseract_version\u001b[0;34m()\u001b[0m\n\u001b[1;32m    445\u001b[0m \u001b[38;5;28;01mtry\u001b[39;00m:\n\u001b[0;32m--> 446\u001b[0m     output \u001b[38;5;241m=\u001b[39m \u001b[43msubprocess\u001b[49m\u001b[38;5;241;43m.\u001b[39;49m\u001b[43mcheck_output\u001b[49m\u001b[43m(\u001b[49m\n\u001b[1;32m    447\u001b[0m \u001b[43m        \u001b[49m\u001b[43m[\u001b[49m\u001b[43mtesseract_cmd\u001b[49m\u001b[43m,\u001b[49m\u001b[43m \u001b[49m\u001b[38;5;124;43m'\u001b[39;49m\u001b[38;5;124;43m--version\u001b[39;49m\u001b[38;5;124;43m'\u001b[39;49m\u001b[43m]\u001b[49m\u001b[43m,\u001b[49m\n\u001b[1;32m    448\u001b[0m \u001b[43m        \u001b[49m\u001b[43mstderr\u001b[49m\u001b[38;5;241;43m=\u001b[39;49m\u001b[43msubprocess\u001b[49m\u001b[38;5;241;43m.\u001b[39;49m\u001b[43mSTDOUT\u001b[49m\u001b[43m,\u001b[49m\n\u001b[1;32m    449\u001b[0m \u001b[43m        \u001b[49m\u001b[43menv\u001b[49m\u001b[38;5;241;43m=\u001b[39;49m\u001b[43menviron\u001b[49m\u001b[43m,\u001b[49m\n\u001b[1;32m    450\u001b[0m \u001b[43m        \u001b[49m\u001b[43mstdin\u001b[49m\u001b[38;5;241;43m=\u001b[39;49m\u001b[43msubprocess\u001b[49m\u001b[38;5;241;43m.\u001b[39;49m\u001b[43mDEVNULL\u001b[49m\u001b[43m,\u001b[49m\n\u001b[1;32m    451\u001b[0m \u001b[43m    \u001b[49m\u001b[43m)\u001b[49m\n\u001b[1;32m    452\u001b[0m \u001b[38;5;28;01mexcept\u001b[39;00m \u001b[38;5;167;01mOSError\u001b[39;00m:\n",
      "File \u001b[0;32m~/.pyenv/versions/3.11.7/lib/python3.11/subprocess.py:466\u001b[0m, in \u001b[0;36mcheck_output\u001b[0;34m(timeout, *popenargs, **kwargs)\u001b[0m\n\u001b[1;32m    464\u001b[0m     kwargs[\u001b[38;5;124m'\u001b[39m\u001b[38;5;124minput\u001b[39m\u001b[38;5;124m'\u001b[39m] \u001b[38;5;241m=\u001b[39m empty\n\u001b[0;32m--> 466\u001b[0m \u001b[38;5;28;01mreturn\u001b[39;00m \u001b[43mrun\u001b[49m\u001b[43m(\u001b[49m\u001b[38;5;241;43m*\u001b[39;49m\u001b[43mpopenargs\u001b[49m\u001b[43m,\u001b[49m\u001b[43m \u001b[49m\u001b[43mstdout\u001b[49m\u001b[38;5;241;43m=\u001b[39;49m\u001b[43mPIPE\u001b[49m\u001b[43m,\u001b[49m\u001b[43m \u001b[49m\u001b[43mtimeout\u001b[49m\u001b[38;5;241;43m=\u001b[39;49m\u001b[43mtimeout\u001b[49m\u001b[43m,\u001b[49m\u001b[43m \u001b[49m\u001b[43mcheck\u001b[49m\u001b[38;5;241;43m=\u001b[39;49m\u001b[38;5;28;43;01mTrue\u001b[39;49;00m\u001b[43m,\u001b[49m\n\u001b[1;32m    467\u001b[0m \u001b[43m           \u001b[49m\u001b[38;5;241;43m*\u001b[39;49m\u001b[38;5;241;43m*\u001b[39;49m\u001b[43mkwargs\u001b[49m\u001b[43m)\u001b[49m\u001b[38;5;241m.\u001b[39mstdout\n",
      "File \u001b[0;32m~/.pyenv/versions/3.11.7/lib/python3.11/subprocess.py:548\u001b[0m, in \u001b[0;36mrun\u001b[0;34m(input, capture_output, timeout, check, *popenargs, **kwargs)\u001b[0m\n\u001b[1;32m    546\u001b[0m     kwargs[\u001b[38;5;124m'\u001b[39m\u001b[38;5;124mstderr\u001b[39m\u001b[38;5;124m'\u001b[39m] \u001b[38;5;241m=\u001b[39m PIPE\n\u001b[0;32m--> 548\u001b[0m \u001b[38;5;28;01mwith\u001b[39;00m \u001b[43mPopen\u001b[49m\u001b[43m(\u001b[49m\u001b[38;5;241;43m*\u001b[39;49m\u001b[43mpopenargs\u001b[49m\u001b[43m,\u001b[49m\u001b[43m \u001b[49m\u001b[38;5;241;43m*\u001b[39;49m\u001b[38;5;241;43m*\u001b[39;49m\u001b[43mkwargs\u001b[49m\u001b[43m)\u001b[49m \u001b[38;5;28;01mas\u001b[39;00m process:\n\u001b[1;32m    549\u001b[0m     \u001b[38;5;28;01mtry\u001b[39;00m:\n",
      "File \u001b[0;32m~/.pyenv/versions/3.11.7/lib/python3.11/subprocess.py:1026\u001b[0m, in \u001b[0;36mPopen.__init__\u001b[0;34m(self, args, bufsize, executable, stdin, stdout, stderr, preexec_fn, close_fds, shell, cwd, env, universal_newlines, startupinfo, creationflags, restore_signals, start_new_session, pass_fds, user, group, extra_groups, encoding, errors, text, umask, pipesize, process_group)\u001b[0m\n\u001b[1;32m   1023\u001b[0m             \u001b[38;5;28mself\u001b[39m\u001b[38;5;241m.\u001b[39mstderr \u001b[38;5;241m=\u001b[39m io\u001b[38;5;241m.\u001b[39mTextIOWrapper(\u001b[38;5;28mself\u001b[39m\u001b[38;5;241m.\u001b[39mstderr,\n\u001b[1;32m   1024\u001b[0m                     encoding\u001b[38;5;241m=\u001b[39mencoding, errors\u001b[38;5;241m=\u001b[39merrors)\n\u001b[0;32m-> 1026\u001b[0m     \u001b[38;5;28;43mself\u001b[39;49m\u001b[38;5;241;43m.\u001b[39;49m\u001b[43m_execute_child\u001b[49m\u001b[43m(\u001b[49m\u001b[43margs\u001b[49m\u001b[43m,\u001b[49m\u001b[43m \u001b[49m\u001b[43mexecutable\u001b[49m\u001b[43m,\u001b[49m\u001b[43m \u001b[49m\u001b[43mpreexec_fn\u001b[49m\u001b[43m,\u001b[49m\u001b[43m \u001b[49m\u001b[43mclose_fds\u001b[49m\u001b[43m,\u001b[49m\n\u001b[1;32m   1027\u001b[0m \u001b[43m                        \u001b[49m\u001b[43mpass_fds\u001b[49m\u001b[43m,\u001b[49m\u001b[43m \u001b[49m\u001b[43mcwd\u001b[49m\u001b[43m,\u001b[49m\u001b[43m \u001b[49m\u001b[43menv\u001b[49m\u001b[43m,\u001b[49m\n\u001b[1;32m   1028\u001b[0m \u001b[43m                        \u001b[49m\u001b[43mstartupinfo\u001b[49m\u001b[43m,\u001b[49m\u001b[43m \u001b[49m\u001b[43mcreationflags\u001b[49m\u001b[43m,\u001b[49m\u001b[43m \u001b[49m\u001b[43mshell\u001b[49m\u001b[43m,\u001b[49m\n\u001b[1;32m   1029\u001b[0m \u001b[43m                        \u001b[49m\u001b[43mp2cread\u001b[49m\u001b[43m,\u001b[49m\u001b[43m \u001b[49m\u001b[43mp2cwrite\u001b[49m\u001b[43m,\u001b[49m\n\u001b[1;32m   1030\u001b[0m \u001b[43m                        \u001b[49m\u001b[43mc2pread\u001b[49m\u001b[43m,\u001b[49m\u001b[43m \u001b[49m\u001b[43mc2pwrite\u001b[49m\u001b[43m,\u001b[49m\n\u001b[1;32m   1031\u001b[0m \u001b[43m                        \u001b[49m\u001b[43merrread\u001b[49m\u001b[43m,\u001b[49m\u001b[43m \u001b[49m\u001b[43merrwrite\u001b[49m\u001b[43m,\u001b[49m\n\u001b[1;32m   1032\u001b[0m \u001b[43m                        \u001b[49m\u001b[43mrestore_signals\u001b[49m\u001b[43m,\u001b[49m\n\u001b[1;32m   1033\u001b[0m \u001b[43m                        \u001b[49m\u001b[43mgid\u001b[49m\u001b[43m,\u001b[49m\u001b[43m \u001b[49m\u001b[43mgids\u001b[49m\u001b[43m,\u001b[49m\u001b[43m \u001b[49m\u001b[43muid\u001b[49m\u001b[43m,\u001b[49m\u001b[43m \u001b[49m\u001b[43mumask\u001b[49m\u001b[43m,\u001b[49m\n\u001b[1;32m   1034\u001b[0m \u001b[43m                        \u001b[49m\u001b[43mstart_new_session\u001b[49m\u001b[43m,\u001b[49m\u001b[43m \u001b[49m\u001b[43mprocess_group\u001b[49m\u001b[43m)\u001b[49m\n\u001b[1;32m   1035\u001b[0m \u001b[38;5;28;01mexcept\u001b[39;00m:\n\u001b[1;32m   1036\u001b[0m     \u001b[38;5;66;03m# Cleanup if the child failed starting.\u001b[39;00m\n",
      "File \u001b[0;32m~/.pyenv/versions/3.11.7/lib/python3.11/subprocess.py:1950\u001b[0m, in \u001b[0;36mPopen._execute_child\u001b[0;34m(self, args, executable, preexec_fn, close_fds, pass_fds, cwd, env, startupinfo, creationflags, shell, p2cread, p2cwrite, c2pread, c2pwrite, errread, errwrite, restore_signals, gid, gids, uid, umask, start_new_session, process_group)\u001b[0m\n\u001b[1;32m   1949\u001b[0m         err_msg \u001b[38;5;241m=\u001b[39m os\u001b[38;5;241m.\u001b[39mstrerror(errno_num)\n\u001b[0;32m-> 1950\u001b[0m     \u001b[38;5;28;01mraise\u001b[39;00m child_exception_type(errno_num, err_msg, err_filename)\n\u001b[1;32m   1951\u001b[0m \u001b[38;5;28;01mraise\u001b[39;00m child_exception_type(err_msg)\n",
      "\u001b[0;31mFileNotFoundError\u001b[0m: [Errno 2] No such file or directory: 'tesseract'",
      "\nDuring handling of the above exception, another exception occurred:\n",
      "\u001b[0;31mTesseractNotFoundError\u001b[0m                    Traceback (most recent call last)",
      "Cell \u001b[0;32mIn[1], line 5\u001b[0m\n\u001b[1;32m      3\u001b[0m files \u001b[38;5;241m=\u001b[39m glob(\u001b[38;5;124m'\u001b[39m\u001b[38;5;124m/raid/alex/data/NatGeo/pdf/*pdf\u001b[39m\u001b[38;5;124m'\u001b[39m)\n\u001b[1;32m      4\u001b[0m loader \u001b[38;5;241m=\u001b[39m UnstructuredFileLoader(files)\n\u001b[0;32m----> 5\u001b[0m docs \u001b[38;5;241m=\u001b[39m \u001b[43mloader\u001b[49m\u001b[38;5;241;43m.\u001b[39;49m\u001b[43mload\u001b[49m\u001b[43m(\u001b[49m\u001b[43m)\u001b[49m\n",
      "File \u001b[0;32m~/.pyenv/versions/3.11.7/envs/rag/lib/python3.11/site-packages/langchain_community/document_loaders/unstructured.py:87\u001b[0m, in \u001b[0;36mUnstructuredBaseLoader.load\u001b[0;34m(self)\u001b[0m\n\u001b[1;32m     85\u001b[0m \u001b[38;5;28;01mdef\u001b[39;00m \u001b[38;5;21mload\u001b[39m(\u001b[38;5;28mself\u001b[39m) \u001b[38;5;241m-\u001b[39m\u001b[38;5;241m>\u001b[39m List[Document]:\n\u001b[1;32m     86\u001b[0m \u001b[38;5;250m    \u001b[39m\u001b[38;5;124;03m\"\"\"Load file.\"\"\"\u001b[39;00m\n\u001b[0;32m---> 87\u001b[0m     elements \u001b[38;5;241m=\u001b[39m \u001b[38;5;28;43mself\u001b[39;49m\u001b[38;5;241;43m.\u001b[39;49m\u001b[43m_get_elements\u001b[49m\u001b[43m(\u001b[49m\u001b[43m)\u001b[49m\n\u001b[1;32m     88\u001b[0m     \u001b[38;5;28mself\u001b[39m\u001b[38;5;241m.\u001b[39m_post_process_elements(elements)\n\u001b[1;32m     89\u001b[0m     \u001b[38;5;28;01mif\u001b[39;00m \u001b[38;5;28mself\u001b[39m\u001b[38;5;241m.\u001b[39mmode \u001b[38;5;241m==\u001b[39m \u001b[38;5;124m\"\u001b[39m\u001b[38;5;124melements\u001b[39m\u001b[38;5;124m\"\u001b[39m:\n",
      "File \u001b[0;32m~/.pyenv/versions/3.11.7/envs/rag/lib/python3.11/site-packages/langchain_community/document_loaders/unstructured.py:176\u001b[0m, in \u001b[0;36mUnstructuredFileLoader._get_elements\u001b[0;34m(self)\u001b[0m\n\u001b[1;32m    174\u001b[0m     elements \u001b[38;5;241m=\u001b[39m []\n\u001b[1;32m    175\u001b[0m     \u001b[38;5;28;01mfor\u001b[39;00m file \u001b[38;5;129;01min\u001b[39;00m \u001b[38;5;28mself\u001b[39m\u001b[38;5;241m.\u001b[39mfile_path:\n\u001b[0;32m--> 176\u001b[0m         elements\u001b[38;5;241m.\u001b[39mextend(\u001b[43mpartition\u001b[49m\u001b[43m(\u001b[49m\u001b[43mfilename\u001b[49m\u001b[38;5;241;43m=\u001b[39;49m\u001b[43mfile\u001b[49m\u001b[43m,\u001b[49m\u001b[43m \u001b[49m\u001b[38;5;241;43m*\u001b[39;49m\u001b[38;5;241;43m*\u001b[39;49m\u001b[38;5;28;43mself\u001b[39;49m\u001b[38;5;241;43m.\u001b[39;49m\u001b[43munstructured_kwargs\u001b[49m\u001b[43m)\u001b[49m)\n\u001b[1;32m    177\u001b[0m     \u001b[38;5;28;01mreturn\u001b[39;00m elements\n\u001b[1;32m    178\u001b[0m \u001b[38;5;28;01melse\u001b[39;00m:\n",
      "File \u001b[0;32m~/.pyenv/versions/3.11.7/envs/rag/lib/python3.11/site-packages/unstructured/partition/auto.py:402\u001b[0m, in \u001b[0;36mpartition\u001b[0;34m(filename, content_type, file, file_filename, url, include_page_breaks, strategy, encoding, paragraph_grouper, headers, skip_infer_table_types, ssl_verify, ocr_languages, languages, detect_language_per_element, pdf_infer_table_structure, extract_images_in_pdf, extract_image_block_types, extract_image_block_output_dir, extract_image_block_to_payload, xml_keep_tags, data_source_metadata, metadata_filename, request_timeout, hi_res_model_name, model_name, **kwargs)\u001b[0m\n\u001b[1;32m    400\u001b[0m \u001b[38;5;28;01melif\u001b[39;00m filetype \u001b[38;5;241m==\u001b[39m FileType\u001b[38;5;241m.\u001b[39mPDF:\n\u001b[1;32m    401\u001b[0m     _partition_pdf \u001b[38;5;241m=\u001b[39m _get_partition_with_extras(\u001b[38;5;124m\"\u001b[39m\u001b[38;5;124mpdf\u001b[39m\u001b[38;5;124m\"\u001b[39m)\n\u001b[0;32m--> 402\u001b[0m     elements \u001b[38;5;241m=\u001b[39m \u001b[43m_partition_pdf\u001b[49m\u001b[43m(\u001b[49m\n\u001b[1;32m    403\u001b[0m \u001b[43m        \u001b[49m\u001b[43mfilename\u001b[49m\u001b[38;5;241;43m=\u001b[39;49m\u001b[43mfilename\u001b[49m\u001b[43m,\u001b[49m\u001b[43m  \u001b[49m\u001b[38;5;66;43;03m# type: ignore\u001b[39;49;00m\n\u001b[1;32m    404\u001b[0m \u001b[43m        \u001b[49m\u001b[43mfile\u001b[49m\u001b[38;5;241;43m=\u001b[39;49m\u001b[43mfile\u001b[49m\u001b[43m,\u001b[49m\u001b[43m  \u001b[49m\u001b[38;5;66;43;03m# type: ignore\u001b[39;49;00m\n\u001b[1;32m    405\u001b[0m \u001b[43m        \u001b[49m\u001b[43murl\u001b[49m\u001b[38;5;241;43m=\u001b[39;49m\u001b[38;5;28;43;01mNone\u001b[39;49;00m\u001b[43m,\u001b[49m\n\u001b[1;32m    406\u001b[0m \u001b[43m        \u001b[49m\u001b[43minclude_page_breaks\u001b[49m\u001b[38;5;241;43m=\u001b[39;49m\u001b[43minclude_page_breaks\u001b[49m\u001b[43m,\u001b[49m\n\u001b[1;32m    407\u001b[0m \u001b[43m        \u001b[49m\u001b[43minfer_table_structure\u001b[49m\u001b[38;5;241;43m=\u001b[39;49m\u001b[43minfer_table_structure\u001b[49m\u001b[43m,\u001b[49m\n\u001b[1;32m    408\u001b[0m \u001b[43m        \u001b[49m\u001b[43mstrategy\u001b[49m\u001b[38;5;241;43m=\u001b[39;49m\u001b[43mstrategy\u001b[49m\u001b[43m,\u001b[49m\n\u001b[1;32m    409\u001b[0m \u001b[43m        \u001b[49m\u001b[43mlanguages\u001b[49m\u001b[38;5;241;43m=\u001b[39;49m\u001b[43mlanguages\u001b[49m\u001b[43m,\u001b[49m\n\u001b[1;32m    410\u001b[0m \u001b[43m        \u001b[49m\u001b[43mhi_res_model_name\u001b[49m\u001b[38;5;241;43m=\u001b[39;49m\u001b[43mhi_res_model_name\u001b[49m\u001b[43m \u001b[49m\u001b[38;5;129;43;01mor\u001b[39;49;00m\u001b[43m \u001b[49m\u001b[43mmodel_name\u001b[49m\u001b[43m,\u001b[49m\n\u001b[1;32m    411\u001b[0m \u001b[43m        \u001b[49m\u001b[43mextract_images_in_pdf\u001b[49m\u001b[38;5;241;43m=\u001b[39;49m\u001b[43mextract_images_in_pdf\u001b[49m\u001b[43m,\u001b[49m\n\u001b[1;32m    412\u001b[0m \u001b[43m        \u001b[49m\u001b[43mextract_image_block_types\u001b[49m\u001b[38;5;241;43m=\u001b[39;49m\u001b[43mextract_image_block_types\u001b[49m\u001b[43m,\u001b[49m\n\u001b[1;32m    413\u001b[0m \u001b[43m        \u001b[49m\u001b[43mextract_image_block_output_dir\u001b[49m\u001b[38;5;241;43m=\u001b[39;49m\u001b[43mextract_image_block_output_dir\u001b[49m\u001b[43m,\u001b[49m\n\u001b[1;32m    414\u001b[0m \u001b[43m        \u001b[49m\u001b[43mextract_image_block_to_payload\u001b[49m\u001b[38;5;241;43m=\u001b[39;49m\u001b[43mextract_image_block_to_payload\u001b[49m\u001b[43m,\u001b[49m\n\u001b[1;32m    415\u001b[0m \u001b[43m        \u001b[49m\u001b[38;5;241;43m*\u001b[39;49m\u001b[38;5;241;43m*\u001b[39;49m\u001b[43mkwargs\u001b[49m\u001b[43m,\u001b[49m\n\u001b[1;32m    416\u001b[0m \u001b[43m    \u001b[49m\u001b[43m)\u001b[49m\n\u001b[1;32m    417\u001b[0m \u001b[38;5;28;01melif\u001b[39;00m filetype \u001b[38;5;129;01min\u001b[39;00m IMAGE_FILETYPES:\n\u001b[1;32m    418\u001b[0m     elements \u001b[38;5;241m=\u001b[39m partition_image(\n\u001b[1;32m    419\u001b[0m         filename\u001b[38;5;241m=\u001b[39mfilename,  \u001b[38;5;66;03m# type: ignore\u001b[39;00m\n\u001b[1;32m    420\u001b[0m         file\u001b[38;5;241m=\u001b[39mfile,  \u001b[38;5;66;03m# type: ignore\u001b[39;00m\n\u001b[0;32m   (...)\u001b[0m\n\u001b[1;32m    431\u001b[0m         \u001b[38;5;241m*\u001b[39m\u001b[38;5;241m*\u001b[39mkwargs,\n\u001b[1;32m    432\u001b[0m     )\n",
      "File \u001b[0;32m~/.pyenv/versions/3.11.7/envs/rag/lib/python3.11/site-packages/unstructured/documents/elements.py:526\u001b[0m, in \u001b[0;36mprocess_metadata.<locals>.decorator.<locals>.wrapper\u001b[0;34m(*args, **kwargs)\u001b[0m\n\u001b[1;32m    524\u001b[0m \u001b[38;5;129m@functools\u001b[39m\u001b[38;5;241m.\u001b[39mwraps(func)\n\u001b[1;32m    525\u001b[0m \u001b[38;5;28;01mdef\u001b[39;00m \u001b[38;5;21mwrapper\u001b[39m(\u001b[38;5;241m*\u001b[39margs: _P\u001b[38;5;241m.\u001b[39margs, \u001b[38;5;241m*\u001b[39m\u001b[38;5;241m*\u001b[39mkwargs: _P\u001b[38;5;241m.\u001b[39mkwargs) \u001b[38;5;241m-\u001b[39m\u001b[38;5;241m>\u001b[39m List[Element]:\n\u001b[0;32m--> 526\u001b[0m     elements \u001b[38;5;241m=\u001b[39m \u001b[43mfunc\u001b[49m\u001b[43m(\u001b[49m\u001b[38;5;241;43m*\u001b[39;49m\u001b[43margs\u001b[49m\u001b[43m,\u001b[49m\u001b[43m \u001b[49m\u001b[38;5;241;43m*\u001b[39;49m\u001b[38;5;241;43m*\u001b[39;49m\u001b[43mkwargs\u001b[49m\u001b[43m)\u001b[49m\n\u001b[1;32m    527\u001b[0m     sig \u001b[38;5;241m=\u001b[39m inspect\u001b[38;5;241m.\u001b[39msignature(func)\n\u001b[1;32m    528\u001b[0m     params: Dict[\u001b[38;5;28mstr\u001b[39m, Any] \u001b[38;5;241m=\u001b[39m \u001b[38;5;28mdict\u001b[39m(\u001b[38;5;241m*\u001b[39m\u001b[38;5;241m*\u001b[39m\u001b[38;5;28mdict\u001b[39m(\u001b[38;5;28mzip\u001b[39m(sig\u001b[38;5;241m.\u001b[39mparameters, args)), \u001b[38;5;241m*\u001b[39m\u001b[38;5;241m*\u001b[39mkwargs)\n",
      "File \u001b[0;32m~/.pyenv/versions/3.11.7/envs/rag/lib/python3.11/site-packages/unstructured/file_utils/filetype.py:619\u001b[0m, in \u001b[0;36madd_filetype.<locals>.decorator.<locals>.wrapper\u001b[0;34m(*args, **kwargs)\u001b[0m\n\u001b[1;32m    617\u001b[0m \u001b[38;5;129m@functools\u001b[39m\u001b[38;5;241m.\u001b[39mwraps(func)\n\u001b[1;32m    618\u001b[0m \u001b[38;5;28;01mdef\u001b[39;00m \u001b[38;5;21mwrapper\u001b[39m(\u001b[38;5;241m*\u001b[39margs: _P\u001b[38;5;241m.\u001b[39margs, \u001b[38;5;241m*\u001b[39m\u001b[38;5;241m*\u001b[39mkwargs: _P\u001b[38;5;241m.\u001b[39mkwargs) \u001b[38;5;241m-\u001b[39m\u001b[38;5;241m>\u001b[39m List[Element]:\n\u001b[0;32m--> 619\u001b[0m     elements \u001b[38;5;241m=\u001b[39m \u001b[43mfunc\u001b[49m\u001b[43m(\u001b[49m\u001b[38;5;241;43m*\u001b[39;49m\u001b[43margs\u001b[49m\u001b[43m,\u001b[49m\u001b[43m \u001b[49m\u001b[38;5;241;43m*\u001b[39;49m\u001b[38;5;241;43m*\u001b[39;49m\u001b[43mkwargs\u001b[49m\u001b[43m)\u001b[49m\n\u001b[1;32m    620\u001b[0m     sig \u001b[38;5;241m=\u001b[39m inspect\u001b[38;5;241m.\u001b[39msignature(func)\n\u001b[1;32m    621\u001b[0m     params: Dict[\u001b[38;5;28mstr\u001b[39m, Any] \u001b[38;5;241m=\u001b[39m \u001b[38;5;28mdict\u001b[39m(\u001b[38;5;241m*\u001b[39m\u001b[38;5;241m*\u001b[39m\u001b[38;5;28mdict\u001b[39m(\u001b[38;5;28mzip\u001b[39m(sig\u001b[38;5;241m.\u001b[39mparameters, args)), \u001b[38;5;241m*\u001b[39m\u001b[38;5;241m*\u001b[39mkwargs)\n",
      "File \u001b[0;32m~/.pyenv/versions/3.11.7/envs/rag/lib/python3.11/site-packages/unstructured/file_utils/filetype.py:574\u001b[0m, in \u001b[0;36madd_metadata.<locals>.wrapper\u001b[0;34m(*args, **kwargs)\u001b[0m\n\u001b[1;32m    572\u001b[0m \u001b[38;5;129m@functools\u001b[39m\u001b[38;5;241m.\u001b[39mwraps(func)\n\u001b[1;32m    573\u001b[0m \u001b[38;5;28;01mdef\u001b[39;00m \u001b[38;5;21mwrapper\u001b[39m(\u001b[38;5;241m*\u001b[39margs: _P\u001b[38;5;241m.\u001b[39margs, \u001b[38;5;241m*\u001b[39m\u001b[38;5;241m*\u001b[39mkwargs: _P\u001b[38;5;241m.\u001b[39mkwargs) \u001b[38;5;241m-\u001b[39m\u001b[38;5;241m>\u001b[39m List[Element]:\n\u001b[0;32m--> 574\u001b[0m     elements \u001b[38;5;241m=\u001b[39m \u001b[43mfunc\u001b[49m\u001b[43m(\u001b[49m\u001b[38;5;241;43m*\u001b[39;49m\u001b[43margs\u001b[49m\u001b[43m,\u001b[49m\u001b[43m \u001b[49m\u001b[38;5;241;43m*\u001b[39;49m\u001b[38;5;241;43m*\u001b[39;49m\u001b[43mkwargs\u001b[49m\u001b[43m)\u001b[49m\n\u001b[1;32m    575\u001b[0m     sig \u001b[38;5;241m=\u001b[39m inspect\u001b[38;5;241m.\u001b[39msignature(func)\n\u001b[1;32m    576\u001b[0m     params: Dict[\u001b[38;5;28mstr\u001b[39m, Any] \u001b[38;5;241m=\u001b[39m \u001b[38;5;28mdict\u001b[39m(\u001b[38;5;241m*\u001b[39m\u001b[38;5;241m*\u001b[39m\u001b[38;5;28mdict\u001b[39m(\u001b[38;5;28mzip\u001b[39m(sig\u001b[38;5;241m.\u001b[39mparameters, args)), \u001b[38;5;241m*\u001b[39m\u001b[38;5;241m*\u001b[39mkwargs)\n",
      "File \u001b[0;32m~/.pyenv/versions/3.11.7/envs/rag/lib/python3.11/site-packages/unstructured/chunking/__init__.py:69\u001b[0m, in \u001b[0;36madd_chunking_strategy.<locals>.decorator.<locals>.wrapper\u001b[0;34m(*args, **kwargs)\u001b[0m\n\u001b[1;32m     66\u001b[0m     \u001b[38;5;28;01mreturn\u001b[39;00m call_args\n\u001b[1;32m     68\u001b[0m \u001b[38;5;66;03m# -- call the partitioning function to get the elements --\u001b[39;00m\n\u001b[0;32m---> 69\u001b[0m elements \u001b[38;5;241m=\u001b[39m \u001b[43mfunc\u001b[49m\u001b[43m(\u001b[49m\u001b[38;5;241;43m*\u001b[39;49m\u001b[43margs\u001b[49m\u001b[43m,\u001b[49m\u001b[43m \u001b[49m\u001b[38;5;241;43m*\u001b[39;49m\u001b[38;5;241;43m*\u001b[39;49m\u001b[43mkwargs\u001b[49m\u001b[43m)\u001b[49m\n\u001b[1;32m     71\u001b[0m \u001b[38;5;66;03m# -- look for a chunking-strategy argument and run the indicated chunker when present --\u001b[39;00m\n\u001b[1;32m     72\u001b[0m call_args \u001b[38;5;241m=\u001b[39m get_call_args_applying_defaults()\n",
      "File \u001b[0;32m~/.pyenv/versions/3.11.7/envs/rag/lib/python3.11/site-packages/unstructured/partition/pdf.py:213\u001b[0m, in \u001b[0;36mpartition_pdf\u001b[0;34m(filename, file, include_page_breaks, strategy, infer_table_structure, ocr_languages, languages, include_metadata, metadata_filename, metadata_last_modified, chunking_strategy, links, hi_res_model_name, extract_images_in_pdf, extract_image_block_types, extract_image_block_output_dir, extract_image_block_to_payload, **kwargs)\u001b[0m\n\u001b[1;32m    209\u001b[0m exactly_one(filename\u001b[38;5;241m=\u001b[39mfilename, file\u001b[38;5;241m=\u001b[39mfile)\n\u001b[1;32m    211\u001b[0m languages \u001b[38;5;241m=\u001b[39m check_language_args(languages \u001b[38;5;129;01mor\u001b[39;00m [], ocr_languages) \u001b[38;5;129;01mor\u001b[39;00m [\u001b[38;5;124m\"\u001b[39m\u001b[38;5;124meng\u001b[39m\u001b[38;5;124m\"\u001b[39m]\n\u001b[0;32m--> 213\u001b[0m \u001b[38;5;28;01mreturn\u001b[39;00m \u001b[43mpartition_pdf_or_image\u001b[49m\u001b[43m(\u001b[49m\n\u001b[1;32m    214\u001b[0m \u001b[43m    \u001b[49m\u001b[43mfilename\u001b[49m\u001b[38;5;241;43m=\u001b[39;49m\u001b[43mfilename\u001b[49m\u001b[43m,\u001b[49m\n\u001b[1;32m    215\u001b[0m \u001b[43m    \u001b[49m\u001b[43mfile\u001b[49m\u001b[38;5;241;43m=\u001b[39;49m\u001b[43mfile\u001b[49m\u001b[43m,\u001b[49m\n\u001b[1;32m    216\u001b[0m \u001b[43m    \u001b[49m\u001b[43minclude_page_breaks\u001b[49m\u001b[38;5;241;43m=\u001b[39;49m\u001b[43minclude_page_breaks\u001b[49m\u001b[43m,\u001b[49m\n\u001b[1;32m    217\u001b[0m \u001b[43m    \u001b[49m\u001b[43mstrategy\u001b[49m\u001b[38;5;241;43m=\u001b[39;49m\u001b[43mstrategy\u001b[49m\u001b[43m,\u001b[49m\n\u001b[1;32m    218\u001b[0m \u001b[43m    \u001b[49m\u001b[43minfer_table_structure\u001b[49m\u001b[38;5;241;43m=\u001b[39;49m\u001b[43minfer_table_structure\u001b[49m\u001b[43m,\u001b[49m\n\u001b[1;32m    219\u001b[0m \u001b[43m    \u001b[49m\u001b[43mlanguages\u001b[49m\u001b[38;5;241;43m=\u001b[39;49m\u001b[43mlanguages\u001b[49m\u001b[43m,\u001b[49m\n\u001b[1;32m    220\u001b[0m \u001b[43m    \u001b[49m\u001b[43mmetadata_last_modified\u001b[49m\u001b[38;5;241;43m=\u001b[39;49m\u001b[43mmetadata_last_modified\u001b[49m\u001b[43m,\u001b[49m\n\u001b[1;32m    221\u001b[0m \u001b[43m    \u001b[49m\u001b[43mhi_res_model_name\u001b[49m\u001b[38;5;241;43m=\u001b[39;49m\u001b[43mhi_res_model_name\u001b[49m\u001b[43m,\u001b[49m\n\u001b[1;32m    222\u001b[0m \u001b[43m    \u001b[49m\u001b[43mextract_images_in_pdf\u001b[49m\u001b[38;5;241;43m=\u001b[39;49m\u001b[43mextract_images_in_pdf\u001b[49m\u001b[43m,\u001b[49m\n\u001b[1;32m    223\u001b[0m \u001b[43m    \u001b[49m\u001b[43mextract_image_block_types\u001b[49m\u001b[38;5;241;43m=\u001b[39;49m\u001b[43mextract_image_block_types\u001b[49m\u001b[43m,\u001b[49m\n\u001b[1;32m    224\u001b[0m \u001b[43m    \u001b[49m\u001b[43mextract_image_block_output_dir\u001b[49m\u001b[38;5;241;43m=\u001b[39;49m\u001b[43mextract_image_block_output_dir\u001b[49m\u001b[43m,\u001b[49m\n\u001b[1;32m    225\u001b[0m \u001b[43m    \u001b[49m\u001b[43mextract_image_block_to_payload\u001b[49m\u001b[38;5;241;43m=\u001b[39;49m\u001b[43mextract_image_block_to_payload\u001b[49m\u001b[43m,\u001b[49m\n\u001b[1;32m    226\u001b[0m \u001b[43m    \u001b[49m\u001b[38;5;241;43m*\u001b[39;49m\u001b[38;5;241;43m*\u001b[39;49m\u001b[43mkwargs\u001b[49m\u001b[43m,\u001b[49m\n\u001b[1;32m    227\u001b[0m \u001b[43m\u001b[49m\u001b[43m)\u001b[49m\n",
      "File \u001b[0;32m~/.pyenv/versions/3.11.7/envs/rag/lib/python3.11/site-packages/unstructured/partition/pdf.py:566\u001b[0m, in \u001b[0;36mpartition_pdf_or_image\u001b[0;34m(filename, file, is_image, include_page_breaks, strategy, infer_table_structure, ocr_languages, languages, metadata_last_modified, hi_res_model_name, extract_images_in_pdf, extract_image_block_types, extract_image_block_output_dir, extract_image_block_to_payload, **kwargs)\u001b[0m\n\u001b[1;32m    563\u001b[0m \u001b[38;5;28;01melif\u001b[39;00m strategy \u001b[38;5;241m==\u001b[39m PartitionStrategy\u001b[38;5;241m.\u001b[39mOCR_ONLY:\n\u001b[1;32m    564\u001b[0m     \u001b[38;5;66;03m# NOTE(robinson): Catches file conversion warnings when running with PDFs\u001b[39;00m\n\u001b[1;32m    565\u001b[0m     \u001b[38;5;28;01mwith\u001b[39;00m warnings\u001b[38;5;241m.\u001b[39mcatch_warnings():\n\u001b[0;32m--> 566\u001b[0m         elements \u001b[38;5;241m=\u001b[39m \u001b[43m_partition_pdf_or_image_with_ocr\u001b[49m\u001b[43m(\u001b[49m\n\u001b[1;32m    567\u001b[0m \u001b[43m            \u001b[49m\u001b[43mfilename\u001b[49m\u001b[38;5;241;43m=\u001b[39;49m\u001b[43mfilename\u001b[49m\u001b[43m,\u001b[49m\n\u001b[1;32m    568\u001b[0m \u001b[43m            \u001b[49m\u001b[43mfile\u001b[49m\u001b[38;5;241;43m=\u001b[39;49m\u001b[43mfile\u001b[49m\u001b[43m,\u001b[49m\n\u001b[1;32m    569\u001b[0m \u001b[43m            \u001b[49m\u001b[43minclude_page_breaks\u001b[49m\u001b[38;5;241;43m=\u001b[39;49m\u001b[43minclude_page_breaks\u001b[49m\u001b[43m,\u001b[49m\n\u001b[1;32m    570\u001b[0m \u001b[43m            \u001b[49m\u001b[43mlanguages\u001b[49m\u001b[38;5;241;43m=\u001b[39;49m\u001b[43mlanguages\u001b[49m\u001b[43m,\u001b[49m\n\u001b[1;32m    571\u001b[0m \u001b[43m            \u001b[49m\u001b[43mis_image\u001b[49m\u001b[38;5;241;43m=\u001b[39;49m\u001b[43mis_image\u001b[49m\u001b[43m,\u001b[49m\n\u001b[1;32m    572\u001b[0m \u001b[43m            \u001b[49m\u001b[43mmetadata_last_modified\u001b[49m\u001b[38;5;241;43m=\u001b[39;49m\u001b[43mmetadata_last_modified\u001b[49m\u001b[43m \u001b[49m\u001b[38;5;129;43;01mor\u001b[39;49;00m\u001b[43m \u001b[49m\u001b[43mlast_modification_date\u001b[49m\u001b[43m,\u001b[49m\n\u001b[1;32m    573\u001b[0m \u001b[43m            \u001b[49m\u001b[38;5;241;43m*\u001b[39;49m\u001b[38;5;241;43m*\u001b[39;49m\u001b[43mkwargs\u001b[49m\u001b[43m,\u001b[49m\n\u001b[1;32m    574\u001b[0m \u001b[43m        \u001b[49m\u001b[43m)\u001b[49m\n\u001b[1;32m    575\u001b[0m         out_elements \u001b[38;5;241m=\u001b[39m _process_uncategorized_text_elements(elements)\n\u001b[1;32m    577\u001b[0m \u001b[38;5;28;01mreturn\u001b[39;00m out_elements\n",
      "File \u001b[0;32m~/.pyenv/versions/3.11.7/envs/rag/lib/python3.11/site-packages/unstructured/partition/pdf.py:905\u001b[0m, in \u001b[0;36m_partition_pdf_or_image_with_ocr\u001b[0;34m(filename, file, include_page_breaks, languages, is_image, metadata_last_modified, **kwargs)\u001b[0m\n\u001b[1;32m    903\u001b[0m \u001b[38;5;28;01melse\u001b[39;00m:\n\u001b[1;32m    904\u001b[0m     \u001b[38;5;28;01mfor\u001b[39;00m page_number, image \u001b[38;5;129;01min\u001b[39;00m \u001b[38;5;28menumerate\u001b[39m(convert_pdf_to_images(filename, file), start\u001b[38;5;241m=\u001b[39m\u001b[38;5;241m1\u001b[39m):\n\u001b[0;32m--> 905\u001b[0m         page_elements \u001b[38;5;241m=\u001b[39m \u001b[43m_partition_pdf_or_image_with_ocr_from_image\u001b[49m\u001b[43m(\u001b[49m\n\u001b[1;32m    906\u001b[0m \u001b[43m            \u001b[49m\u001b[43mimage\u001b[49m\u001b[38;5;241;43m=\u001b[39;49m\u001b[43mimage\u001b[49m\u001b[43m,\u001b[49m\n\u001b[1;32m    907\u001b[0m \u001b[43m            \u001b[49m\u001b[43mlanguages\u001b[49m\u001b[38;5;241;43m=\u001b[39;49m\u001b[43mlanguages\u001b[49m\u001b[43m,\u001b[49m\n\u001b[1;32m    908\u001b[0m \u001b[43m            \u001b[49m\u001b[43mpage_number\u001b[49m\u001b[38;5;241;43m=\u001b[39;49m\u001b[43mpage_number\u001b[49m\u001b[43m,\u001b[49m\n\u001b[1;32m    909\u001b[0m \u001b[43m            \u001b[49m\u001b[43minclude_page_breaks\u001b[49m\u001b[38;5;241;43m=\u001b[39;49m\u001b[43minclude_page_breaks\u001b[49m\u001b[43m,\u001b[49m\n\u001b[1;32m    910\u001b[0m \u001b[43m            \u001b[49m\u001b[43mmetadata_last_modified\u001b[49m\u001b[38;5;241;43m=\u001b[39;49m\u001b[43mmetadata_last_modified\u001b[49m\u001b[43m,\u001b[49m\n\u001b[1;32m    911\u001b[0m \u001b[43m            \u001b[49m\u001b[38;5;241;43m*\u001b[39;49m\u001b[38;5;241;43m*\u001b[39;49m\u001b[43mkwargs\u001b[49m\u001b[43m,\u001b[49m\n\u001b[1;32m    912\u001b[0m \u001b[43m        \u001b[49m\u001b[43m)\u001b[49m\n\u001b[1;32m    913\u001b[0m         elements\u001b[38;5;241m.\u001b[39mextend(page_elements)\n\u001b[1;32m    915\u001b[0m \u001b[38;5;28;01mreturn\u001b[39;00m elements\n",
      "File \u001b[0;32m~/.pyenv/versions/3.11.7/envs/rag/lib/python3.11/site-packages/unstructured/partition/pdf.py:940\u001b[0m, in \u001b[0;36m_partition_pdf_or_image_with_ocr_from_image\u001b[0;34m(image, languages, page_number, include_page_breaks, metadata_last_modified, sort_mode, **kwargs)\u001b[0m\n\u001b[1;32m    937\u001b[0m \u001b[38;5;28;01mif\u001b[39;00m ocr_agent\u001b[38;5;241m.\u001b[39mis_text_sorted():\n\u001b[1;32m    938\u001b[0m     sort_mode \u001b[38;5;241m=\u001b[39m SORT_MODE_DONT\n\u001b[0;32m--> 940\u001b[0m ocr_data \u001b[38;5;241m=\u001b[39m \u001b[43mocr_agent\u001b[49m\u001b[38;5;241;43m.\u001b[39;49m\u001b[43mget_layout_elements_from_image\u001b[49m\u001b[43m(\u001b[49m\n\u001b[1;32m    941\u001b[0m \u001b[43m    \u001b[49m\u001b[43mimage\u001b[49m\u001b[38;5;241;43m=\u001b[39;49m\u001b[43mimage\u001b[49m\u001b[43m,\u001b[49m\n\u001b[1;32m    942\u001b[0m \u001b[43m    \u001b[49m\u001b[43mocr_languages\u001b[49m\u001b[38;5;241;43m=\u001b[39;49m\u001b[43mocr_languages\u001b[49m\u001b[43m,\u001b[49m\n\u001b[1;32m    943\u001b[0m \u001b[43m\u001b[49m\u001b[43m)\u001b[49m\n\u001b[1;32m    945\u001b[0m metadata \u001b[38;5;241m=\u001b[39m ElementMetadata(\n\u001b[1;32m    946\u001b[0m     last_modified\u001b[38;5;241m=\u001b[39mmetadata_last_modified,\n\u001b[1;32m    947\u001b[0m     filetype\u001b[38;5;241m=\u001b[39mimage\u001b[38;5;241m.\u001b[39mformat,\n\u001b[1;32m    948\u001b[0m     page_number\u001b[38;5;241m=\u001b[39mpage_number,\n\u001b[1;32m    949\u001b[0m     languages\u001b[38;5;241m=\u001b[39mlanguages,\n\u001b[1;32m    950\u001b[0m )\n\u001b[1;32m    952\u001b[0m page_elements \u001b[38;5;241m=\u001b[39m ocr_data_to_elements(\n\u001b[1;32m    953\u001b[0m     ocr_data,\n\u001b[1;32m    954\u001b[0m     image_size\u001b[38;5;241m=\u001b[39mimage\u001b[38;5;241m.\u001b[39msize,\n\u001b[1;32m    955\u001b[0m     common_metadata\u001b[38;5;241m=\u001b[39mmetadata,\n\u001b[1;32m    956\u001b[0m )\n",
      "File \u001b[0;32m~/.pyenv/versions/3.11.7/envs/rag/lib/python3.11/site-packages/unstructured/utils.py:214\u001b[0m, in \u001b[0;36mrequires_dependencies.<locals>.decorator.<locals>.wrapper\u001b[0;34m(*args, **kwargs)\u001b[0m\n\u001b[1;32m    205\u001b[0m \u001b[38;5;28;01mif\u001b[39;00m \u001b[38;5;28mlen\u001b[39m(missing_deps) \u001b[38;5;241m>\u001b[39m \u001b[38;5;241m0\u001b[39m:\n\u001b[1;32m    206\u001b[0m     \u001b[38;5;28;01mraise\u001b[39;00m \u001b[38;5;167;01mImportError\u001b[39;00m(\n\u001b[1;32m    207\u001b[0m         \u001b[38;5;124mf\u001b[39m\u001b[38;5;124m\"\u001b[39m\u001b[38;5;124mFollowing dependencies are missing: \u001b[39m\u001b[38;5;132;01m{\u001b[39;00m\u001b[38;5;124m'\u001b[39m\u001b[38;5;124m, \u001b[39m\u001b[38;5;124m'\u001b[39m\u001b[38;5;241m.\u001b[39mjoin(missing_deps)\u001b[38;5;132;01m}\u001b[39;00m\u001b[38;5;124m. \u001b[39m\u001b[38;5;124m\"\u001b[39m\n\u001b[1;32m    208\u001b[0m         \u001b[38;5;241m+\u001b[39m (\n\u001b[0;32m   (...)\u001b[0m\n\u001b[1;32m    212\u001b[0m         ),\n\u001b[1;32m    213\u001b[0m     )\n\u001b[0;32m--> 214\u001b[0m \u001b[38;5;28;01mreturn\u001b[39;00m \u001b[43mfunc\u001b[49m\u001b[43m(\u001b[49m\u001b[38;5;241;43m*\u001b[39;49m\u001b[43margs\u001b[49m\u001b[43m,\u001b[49m\u001b[43m \u001b[49m\u001b[38;5;241;43m*\u001b[39;49m\u001b[38;5;241;43m*\u001b[39;49m\u001b[43mkwargs\u001b[49m\u001b[43m)\u001b[49m\n",
      "File \u001b[0;32m~/.pyenv/versions/3.11.7/envs/rag/lib/python3.11/site-packages/unstructured/partition/utils/ocr_models/tesseract_ocr.py:96\u001b[0m, in \u001b[0;36mOCRAgentTesseract.get_layout_elements_from_image\u001b[0;34m(self, image, ocr_languages)\u001b[0m\n\u001b[1;32m     88\u001b[0m \u001b[38;5;129m@requires_dependencies\u001b[39m(\u001b[38;5;124m\"\u001b[39m\u001b[38;5;124munstructured_inference\u001b[39m\u001b[38;5;124m\"\u001b[39m)\n\u001b[1;32m     89\u001b[0m \u001b[38;5;28;01mdef\u001b[39;00m \u001b[38;5;21mget_layout_elements_from_image\u001b[39m(\n\u001b[1;32m     90\u001b[0m     \u001b[38;5;28mself\u001b[39m, image: PILImage, ocr_languages: \u001b[38;5;28mstr\u001b[39m \u001b[38;5;241m=\u001b[39m \u001b[38;5;124m\"\u001b[39m\u001b[38;5;124meng\u001b[39m\u001b[38;5;124m\"\u001b[39m\n\u001b[1;32m     91\u001b[0m ) \u001b[38;5;241m-\u001b[39m\u001b[38;5;241m>\u001b[39m List[\u001b[38;5;124m\"\u001b[39m\u001b[38;5;124mLayoutElement\u001b[39m\u001b[38;5;124m\"\u001b[39m]:\n\u001b[1;32m     92\u001b[0m     \u001b[38;5;28;01mfrom\u001b[39;00m \u001b[38;5;21;01munstructured\u001b[39;00m\u001b[38;5;21;01m.\u001b[39;00m\u001b[38;5;21;01mpartition\u001b[39;00m\u001b[38;5;21;01m.\u001b[39;00m\u001b[38;5;21;01mpdf_image\u001b[39;00m\u001b[38;5;21;01m.\u001b[39;00m\u001b[38;5;21;01minference_utils\u001b[39;00m \u001b[38;5;28;01mimport\u001b[39;00m (\n\u001b[1;32m     93\u001b[0m         build_layout_elements_from_ocr_regions,\n\u001b[1;32m     94\u001b[0m     )\n\u001b[0;32m---> 96\u001b[0m     ocr_regions \u001b[38;5;241m=\u001b[39m \u001b[38;5;28;43mself\u001b[39;49m\u001b[38;5;241;43m.\u001b[39;49m\u001b[43mget_layout_from_image\u001b[49m\u001b[43m(\u001b[49m\n\u001b[1;32m     97\u001b[0m \u001b[43m        \u001b[49m\u001b[43mimage\u001b[49m\u001b[43m,\u001b[49m\n\u001b[1;32m     98\u001b[0m \u001b[43m        \u001b[49m\u001b[43mocr_languages\u001b[49m\u001b[38;5;241;43m=\u001b[39;49m\u001b[43mocr_languages\u001b[49m\u001b[43m,\u001b[49m\n\u001b[1;32m     99\u001b[0m \u001b[43m    \u001b[49m\u001b[43m)\u001b[49m\n\u001b[1;32m    101\u001b[0m     \u001b[38;5;66;03m# NOTE(christine): For tesseract, the ocr_text returned by\u001b[39;00m\n\u001b[1;32m    102\u001b[0m     \u001b[38;5;66;03m# `unstructured_pytesseract.image_to_string()` doesn't contain bounding box data but is\u001b[39;00m\n\u001b[1;32m    103\u001b[0m     \u001b[38;5;66;03m# well grouped. Conversely, the ocr_layout returned by parsing\u001b[39;00m\n\u001b[1;32m    104\u001b[0m     \u001b[38;5;66;03m# `unstructured_pytesseract.image_to_data()` contains bounding box data but is not well\u001b[39;00m\n\u001b[1;32m    105\u001b[0m     \u001b[38;5;66;03m# grouped. Therefore, we need to first group the `ocr_layout` by `ocr_text` and then merge\u001b[39;00m\n\u001b[1;32m    106\u001b[0m     \u001b[38;5;66;03m# the text regions in each group to create a list of layout elements.\u001b[39;00m\n\u001b[1;32m    108\u001b[0m     ocr_text \u001b[38;5;241m=\u001b[39m \u001b[38;5;28mself\u001b[39m\u001b[38;5;241m.\u001b[39mget_text_from_image(\n\u001b[1;32m    109\u001b[0m         image,\n\u001b[1;32m    110\u001b[0m         ocr_languages\u001b[38;5;241m=\u001b[39mocr_languages,\n\u001b[1;32m    111\u001b[0m     )\n",
      "File \u001b[0;32m~/.pyenv/versions/3.11.7/envs/rag/lib/python3.11/site-packages/unstructured/partition/utils/ocr_models/tesseract_ocr.py:48\u001b[0m, in \u001b[0;36mOCRAgentTesseract.get_layout_from_image\u001b[0;34m(self, image, ocr_languages)\u001b[0m\n\u001b[1;32m     46\u001b[0m logger\u001b[38;5;241m.\u001b[39minfo(\u001b[38;5;124m\"\u001b[39m\u001b[38;5;124mProcessing entire page OCR with tesseract...\u001b[39m\u001b[38;5;124m\"\u001b[39m)\n\u001b[1;32m     47\u001b[0m zoom \u001b[38;5;241m=\u001b[39m \u001b[38;5;241m1\u001b[39m\n\u001b[0;32m---> 48\u001b[0m ocr_df: pd\u001b[38;5;241m.\u001b[39mDataFrame \u001b[38;5;241m=\u001b[39m \u001b[43munstructured_pytesseract\u001b[49m\u001b[38;5;241;43m.\u001b[39;49m\u001b[43mimage_to_data\u001b[49m\u001b[43m(\u001b[49m\n\u001b[1;32m     49\u001b[0m \u001b[43m    \u001b[49m\u001b[43mnp\u001b[49m\u001b[38;5;241;43m.\u001b[39;49m\u001b[43marray\u001b[49m\u001b[43m(\u001b[49m\u001b[43mimage\u001b[49m\u001b[43m)\u001b[49m\u001b[43m,\u001b[49m\n\u001b[1;32m     50\u001b[0m \u001b[43m    \u001b[49m\u001b[43mlang\u001b[49m\u001b[38;5;241;43m=\u001b[39;49m\u001b[43mocr_languages\u001b[49m\u001b[43m,\u001b[49m\n\u001b[1;32m     51\u001b[0m \u001b[43m    \u001b[49m\u001b[43moutput_type\u001b[49m\u001b[38;5;241;43m=\u001b[39;49m\u001b[43mOutput\u001b[49m\u001b[38;5;241;43m.\u001b[39;49m\u001b[43mDATAFRAME\u001b[49m\u001b[43m,\u001b[49m\n\u001b[1;32m     52\u001b[0m \u001b[43m\u001b[49m\u001b[43m)\u001b[49m\n\u001b[1;32m     53\u001b[0m ocr_df \u001b[38;5;241m=\u001b[39m ocr_df\u001b[38;5;241m.\u001b[39mdropna()\n\u001b[1;32m     55\u001b[0m \u001b[38;5;66;03m# tesseract performance degrades when the text height is out of the preferred zone so we\u001b[39;00m\n\u001b[1;32m     56\u001b[0m \u001b[38;5;66;03m# zoom the image (in or out depending on estimated text height) for optimum OCR results\u001b[39;00m\n\u001b[1;32m     57\u001b[0m \u001b[38;5;66;03m# but this needs to be evaluated based on actual use case as the optimum scaling also\u001b[39;00m\n\u001b[1;32m     58\u001b[0m \u001b[38;5;66;03m# depend on type of characters (font, language, etc); be careful about this\u001b[39;00m\n\u001b[1;32m     59\u001b[0m \u001b[38;5;66;03m# functionality\u001b[39;00m\n",
      "File \u001b[0;32m~/.pyenv/versions/3.11.7/envs/rag/lib/python3.11/site-packages/unstructured_pytesseract/pytesseract.py:585\u001b[0m, in \u001b[0;36mimage_to_data\u001b[0;34m(image, lang, config, nice, output_type, timeout, pandas_config)\u001b[0m\n\u001b[1;32m    571\u001b[0m \u001b[38;5;28;01mdef\u001b[39;00m \u001b[38;5;21mimage_to_data\u001b[39m(\n\u001b[1;32m    572\u001b[0m     image,\n\u001b[1;32m    573\u001b[0m     lang\u001b[38;5;241m=\u001b[39m\u001b[38;5;28;01mNone\u001b[39;00m,\n\u001b[0;32m   (...)\u001b[0m\n\u001b[1;32m    578\u001b[0m     pandas_config\u001b[38;5;241m=\u001b[39m\u001b[38;5;28;01mNone\u001b[39;00m,\n\u001b[1;32m    579\u001b[0m ):\n\u001b[1;32m    580\u001b[0m \u001b[38;5;250m    \u001b[39m\u001b[38;5;124;03m\"\"\"\u001b[39;00m\n\u001b[1;32m    581\u001b[0m \u001b[38;5;124;03m    Returns string containing box boundaries, confidences,\u001b[39;00m\n\u001b[1;32m    582\u001b[0m \u001b[38;5;124;03m    and other information. Requires Tesseract 3.05+\u001b[39;00m\n\u001b[1;32m    583\u001b[0m \u001b[38;5;124;03m    \"\"\"\u001b[39;00m\n\u001b[0;32m--> 585\u001b[0m     \u001b[38;5;28;01mif\u001b[39;00m \u001b[43mget_tesseract_version\u001b[49m\u001b[43m(\u001b[49m\u001b[43mcached\u001b[49m\u001b[38;5;241;43m=\u001b[39;49m\u001b[38;5;28;43;01mTrue\u001b[39;49;00m\u001b[43m)\u001b[49m \u001b[38;5;241m<\u001b[39m TESSERACT_MIN_VERSION:\n\u001b[1;32m    586\u001b[0m         \u001b[38;5;28;01mraise\u001b[39;00m TSVNotSupported()\n\u001b[1;32m    588\u001b[0m     config \u001b[38;5;241m=\u001b[39m \u001b[38;5;124mf\u001b[39m\u001b[38;5;124m'\u001b[39m\u001b[38;5;124m-c tessedit_create_tsv=1 \u001b[39m\u001b[38;5;132;01m{\u001b[39;00mconfig\u001b[38;5;241m.\u001b[39mstrip()\u001b[38;5;132;01m}\u001b[39;00m\u001b[38;5;124m'\u001b[39m\n",
      "File \u001b[0;32m~/.pyenv/versions/3.11.7/envs/rag/lib/python3.11/site-packages/unstructured_pytesseract/pytesseract.py:158\u001b[0m, in \u001b[0;36mrun_once.<locals>.wrapper\u001b[0;34m(*args, **kwargs)\u001b[0m\n\u001b[1;32m    155\u001b[0m \u001b[38;5;129m@wraps\u001b[39m(func)\n\u001b[1;32m    156\u001b[0m \u001b[38;5;28;01mdef\u001b[39;00m \u001b[38;5;21mwrapper\u001b[39m(\u001b[38;5;241m*\u001b[39margs, \u001b[38;5;241m*\u001b[39m\u001b[38;5;241m*\u001b[39mkwargs):\n\u001b[1;32m    157\u001b[0m     \u001b[38;5;28;01mif\u001b[39;00m \u001b[38;5;129;01mnot\u001b[39;00m kwargs\u001b[38;5;241m.\u001b[39mpop(\u001b[38;5;124m'\u001b[39m\u001b[38;5;124mcached\u001b[39m\u001b[38;5;124m'\u001b[39m, \u001b[38;5;28;01mFalse\u001b[39;00m) \u001b[38;5;129;01mor\u001b[39;00m wrapper\u001b[38;5;241m.\u001b[39m_result \u001b[38;5;129;01mis\u001b[39;00m wrapper:\n\u001b[0;32m--> 158\u001b[0m         wrapper\u001b[38;5;241m.\u001b[39m_result \u001b[38;5;241m=\u001b[39m \u001b[43mfunc\u001b[49m\u001b[43m(\u001b[49m\u001b[38;5;241;43m*\u001b[39;49m\u001b[43margs\u001b[49m\u001b[43m,\u001b[49m\u001b[43m \u001b[49m\u001b[38;5;241;43m*\u001b[39;49m\u001b[38;5;241;43m*\u001b[39;49m\u001b[43mkwargs\u001b[49m\u001b[43m)\u001b[49m\n\u001b[1;32m    159\u001b[0m     \u001b[38;5;28;01mreturn\u001b[39;00m wrapper\u001b[38;5;241m.\u001b[39m_result\n",
      "File \u001b[0;32m~/.pyenv/versions/3.11.7/envs/rag/lib/python3.11/site-packages/unstructured_pytesseract/pytesseract.py:453\u001b[0m, in \u001b[0;36mget_tesseract_version\u001b[0;34m()\u001b[0m\n\u001b[1;32m    446\u001b[0m     output \u001b[38;5;241m=\u001b[39m subprocess\u001b[38;5;241m.\u001b[39mcheck_output(\n\u001b[1;32m    447\u001b[0m         [tesseract_cmd, \u001b[38;5;124m'\u001b[39m\u001b[38;5;124m--version\u001b[39m\u001b[38;5;124m'\u001b[39m],\n\u001b[1;32m    448\u001b[0m         stderr\u001b[38;5;241m=\u001b[39msubprocess\u001b[38;5;241m.\u001b[39mSTDOUT,\n\u001b[1;32m    449\u001b[0m         env\u001b[38;5;241m=\u001b[39menviron,\n\u001b[1;32m    450\u001b[0m         stdin\u001b[38;5;241m=\u001b[39msubprocess\u001b[38;5;241m.\u001b[39mDEVNULL,\n\u001b[1;32m    451\u001b[0m     )\n\u001b[1;32m    452\u001b[0m \u001b[38;5;28;01mexcept\u001b[39;00m \u001b[38;5;167;01mOSError\u001b[39;00m:\n\u001b[0;32m--> 453\u001b[0m     \u001b[38;5;28;01mraise\u001b[39;00m TesseractNotFoundError()\n\u001b[1;32m    455\u001b[0m raw_version \u001b[38;5;241m=\u001b[39m output\u001b[38;5;241m.\u001b[39mdecode(DEFAULT_ENCODING)\n\u001b[1;32m    456\u001b[0m str_version, \u001b[38;5;241m*\u001b[39m_ \u001b[38;5;241m=\u001b[39m raw_version\u001b[38;5;241m.\u001b[39mlstrip(string\u001b[38;5;241m.\u001b[39mprintable[\u001b[38;5;241m10\u001b[39m:])\u001b[38;5;241m.\u001b[39mpartition(\u001b[38;5;124m'\u001b[39m\u001b[38;5;124m \u001b[39m\u001b[38;5;124m'\u001b[39m)\n",
      "\u001b[0;31mTesseractNotFoundError\u001b[0m: tesseract is not installed or it's not in your PATH. See README file for more information."
     ]
    }
   ],
   "source": [
    "from langchain_community.document_loaders import UnstructuredFileLoader\n",
    "from glob import glob\n",
    "files = glob('/raid/alex/data/NatGeo/pdf/*pdf')\n",
    "loader = UnstructuredFileLoader(files)\n",
    "docs = loader.load()"
   ]
  },
  {
   "cell_type": "code",
   "execution_count": null,
   "id": "da59ba85-38d7-4de8-b7be-0b657529086b",
   "metadata": {},
   "outputs": [],
   "source": [
    "# Chunk text\n",
    "text_splitter = CharacterTextSplitter(chunk_size=100, \n",
    "                                      chunk_overlap=0)\n",
    "chunked_documents = text_splitter.split_documents(docs)\n",
    "\n",
    "# Load chunked documents into the FAISS index\n",
    "db = FAISS.from_documents(chunked_documents, \n",
    "                          HuggingFaceEmbeddings(model_name='sentence-transformers/all-mpnet-base-v2'))\n",
    "\n",
    "retriever = db.as_retriever()"
   ]
  },
  {
   "cell_type": "code",
   "execution_count": 15,
   "id": "a2aecf15-63d6-4b90-b0c1-31784bef4481",
   "metadata": {
    "scrolled": true
   },
   "outputs": [
    {
     "data": {
      "text/plain": [
       "[Document(page_content=\"By accessing this site you agree to our  \\nprivacy policy and terms of use.  Accept\\n\\nSkip to main content\\n\\n__\\n\\nPremium __\\n\\n< Back Draft Wizard __\\n\\n< Back My Playbook __\\n\\n< Back NFL __\\n\\n< Back MLB __\\n\\n< Back NBA __\\n\\n< Back NHL __\\n\\n< Back DFS __\\n\\n< Back BettingPros\\n\\n< Back  More... __\\n\\n  *     * PGA\\n\\n< Back Draft Wizard __\\n\\n< Back My Playbook __\\n\\nGame DayLive!\\n\\nPremium\\n\\n__\\n\\n__\\n\\n__\\n\\nSearch for more!\\n\\nYou can now search for Tools, Reports, Articles, Rankings, as well as Players\\nand Teams.\\n\\nStart New Search\\n\\nSign In\\n\\n__\\n\\n## Loading your leagues\\n\\n__\\n\\n  * My Account\\n  * My Leagues\\n  * Premium\\n  * Mobile Apps\\n  * Discord Chat\\n  * Forum\\n  * Sign In\\n  * Sign Up\\n  * Help\\n  * Sign Out\\n\\nHelp\\n\\nNew\\n\\n  * NFL Home\\n  * Tools __\\n    *       * Draft\\n      * Draft Simulator\\n      * Mock Draft Lobby\\n      * Live Draft Assistant\\n      * Draft Kit\\n      * Best Ball Draft Kit\\n      * Cheat Sheet Creator\\n      * Salary Cap Simulator\\n      * Salary Cap Calculator\\n      * Perfect Draft Challenge\\n      * Draft Analyzer\\n      * QBBC Finder\\n      * Draft Order Generator\\n      * Draft Software\\n      * Who Should I Draft?\\n    *       * In-Season\\n      * My Playbook\\n      * Who Should I Start?\\n      * Start/Sit Assistant\\n      * Auto-Pilot\\n      * Waiver Central\\n      * Waiver Assistant\\n      * Free Agent Finder\\n      * Trade Analyzer\\n      * Trade Central\\n      * Trade Finder\\n      * Multi-League Assistant\\n      * Game Day\\n    *       * Sports Betting\\n      * Prop Bet Cheat Sheet\\n      * PrizePicks Cheat Sheet\\n      * Prop Bet Analyzer\\n      * Game Picks\\n      * Bet Dashboard\\n      * Live Odds\\n      * Mobile App\\n  * Rankings __\\n    *       * 2024 Draft\\n      * Expert Consensus Rankings\\n      * Half PPR Rankings\\n      * PPR Rankings\\n      * Standard Rankings\\n      * IDP Rankings\\n      * FantasyPros Experts\\n      * Sleeper Rankings\\n      * Player Notes\\n      * Average Draft Position\\n      * Cheat Sheets\\n      * Expert Directory\\n      * Best Ball ADP\\n    *       * Dynasty\\n      * Expert Consensus Rankings\\n      * Rookie Rankings\\n      * Trade Value Chart\\n      * Prospect Rankings\\n      * IDP Rankings\\n      * FantasyPros Experts\\n      * Expert Directory\\n    *       * Weekly\\n      * Expert Consensus Rankings\\n      * Half PPR Rankings\\n      * PPR Rankings\\n      * Standard Rankings\\n      * IDP Rankings\\n      * FantasyPros Experts\\n      * Waiver Wire\\n      * Expert Directory\\n      * Player Notes\\n    *       * Rest of Season\\n      * Expert Consensus Rankings\\n      * Half PPR Rankings\\n      * PPR Rankings\\n      * Standard Rankings\\n      * Player Notes\\n      * Expert Directory\\n  * Projections __\\n    * Weekly\\n    * Full Season\\n  * Stats __\\n    * Fantasy Football Stats\\n    * Most Targeted Players\\n    * NFL Snap Count Leaders\\n    * NFL Red Zone Stats\\n    * Advanced Quarterback Stats\\n    * Advanced Running Back Stats\\n    * Advanced Wide Receiver Stats\\n    * Advanced Tight End Stats\\n    * Fantasy Points Allowed\\n  * Research __\\n    *       * Research\\n      * 2023 Projections\\n      * Weekly Projections\\n      * Projected Leaders\\n      * Betting Odds\\n      * Prop Bet Cheat Sheet\\n      * Prop Bet Analyzer\\n      * Bet Dashboard\\n      * Game Picks\\n      * Inactives List\\n      * Injuries\\n      * Player Insights\\n      * Strategy Tips\\n      * Research\\n      * Research\\n      * Average Draft Position\\n      * Sleeper Rankings\\n    *       * Reports\\n      * Fantasy Leaders\\n      * Stats Leaders\\n      * Points Distribution\\n      * Target Leaders\\n      * Targets by Team\\n      * Snap Count Leaders\\n      * Snap Count Analysis\\n      * Fantasy Depth Charts\\n      * RB Handcuffs\\n      * Fantasy Points Allowed\\n      * Red Zone Stats\\n      * Advanced Stats\\n      * Value Based Drafting\\n      * Boom Bust Report\\n      * Touchdown Regression\\n      * Free Agency Tracker\\n    *       * Schedules\\n      * NFL Schedule\\n      * Opponents for Every Team\\n      * Strength of Schedule\\n      * Matchup Calendar\\n      * Bye Week Cheat Sheet\\n      * Bye Weeks by Team\\n    *       * Experts\\n      * In-Season Accuracy\\n      * Draft Accuracy\\n      * DFS Accuracy\\n      * Videos\\n      * Consensus Sleepers\\n      * Consensus Busts\\n      * Dissenting Opinions\\n      * Expert Directory\\n  * NFL Draft __\\n    *       * NFL Draft\\n      * 2024 Draft Guide\\n      * Mock Drafts\\n      * Consensus Mock Draft\\n      * Big Board\\n      * Prospect Rankings\\n      * Mock Draft Accuracy\\n      * Podcast\\n      * Videos\\n      * Articles\\n    *       * Combine Results\\n      * Overall\\n      * 40-Yard Dash\\n      * Bench Press\\n      * Vertical Jump\\n      * Broad Jump\\n      * 20-Yard Shuttle\\n  * Dynasty __\\n    * Dynasty Draft Kit\\n    * Trade Value Chart\\n    * Dynasty Rankings\\n    * Rookie Rankings\\n    * Mock Drafts\\n    * Rookie Draft Simulator\\n    * Dynasty Draft Simulator\\n    * Articles\\n    * Podcast\\n  * Articles __\\n    * Sleepers\\n    * Busts\\n    * Dynasty\\n    * Strategy\\n    * Trade Advice\\n    * Daily Fantasy\\n  * News __\\n    *       * Player Updates\\n      * All News\\n      * Breaking\\n      * Rumors\\n      * Injuries\\n      * Transactions\\n      * NFL Draft\\n    *       * Featured\\n      * Injuries\\n      * Sleepers\\n      * Busts\\n      * Strategy\\n      * Start/Sit\\n      * Waiver Wire\\n      * Rankings\\n      * Dynasty\\n      * Player Profiles\\n      * Rookies\\n      * Partner Articles\\n      * Podcasts\\n      * Videos\\n  * Podcast __\\n    * Fantasy Football\\n    * Dynasty Football\\n    * Game Changers\\n    * The Kickoff\\n    * Promo Codes\\n  * Apps\\n\\n#  Rival Fantasy NFL: Week 10\\n\\nby  Raju Byfield  |  @FantasyContext |  Nov 9, 2023\\n\\nWelcome to RivalFantasy. Rival Fantasy has three exciting offerings for the\\nNFL season: Challenges, Fantasy Bingo, and Season Long.\\n\\n**Challenge your Friends at Rival Fantasy Today >**\\n\\n## Rival Fantasy NFL: Week 10\\n\\n### **Challenges**\\n\\nWeek 9’s challenge ended abruptly when Josh Downs\\n\\nleft the game with a knee injury. For Week 10, let’s just hope both players\\nmake it out of the game without injury. We will try something new this week\\nand go with two running backs for our challenge instead of two wide receivers.\\n\\nThis week, I want to include Keaton Mitchell\\n\\nin a challenge. He was the top waiver add of the week, but his role remains\\nuncertain. His matchup is not ideal from a potential gamescript standpoint, as\\nhe will be facing a tough Cleveland Browns defense. Mitchell looked as\\nexplosive as he did at East Carolina and made good on all the offseason hype\\ncoming from local beat writers. Mitchell ran for 138 rushing yards and a\\ntouchdown on just nine carries. He should have earned an expanded role, but\\ngamescript concerns leave him in flex territory.\\n\\nDevon Achane\\n\\nwould be the running back I would pair with him if healthy, but since he is\\nnot an option for at least one more week, we will pick a struggling running\\nback and make this a real challenge. Alexander Mattison\\n\\nhas become the poster boy for not all volume being created equal and is well\\non his way to being replaced this offseason despite just signing a new deal\\nthis past free agency period. Mattison has scored zero rushing touchdowns and\\nhas averaged just 3.6 yards per carry through nine games this season. I am not\\nsure what Minnesota was thinking in letting Dalvin Cook\\n\\ngo. Perhaps his asking price was much higher than what he ended up getting\\nfrom the New York Jets. Whatever the case, Mattison has been a sub four yards\\nper carry runner for the last three seasons now and has failed to top 100\\nrushing yards in any game this season. This should make for an interesting\\nchallenge.\\n\\n### **Fantasy Bingo**\\n\\nWeek 9 wasn’t kind to my Fantasy Bingo cards despite upping my cards held from\\nfive to 10. I did manage to get three squares in a corner on one card, but the\\nachievement needed to complete the square was two first quarter touchdowns\\n(WR). I also had three squares of a horizontal line, with the missing\\nachievements being one fumble (TE) and two field goals missed (K). With my\\nluck not changing with the extra cards, I will be going back to five for Week\\n10. I did think twice since I will have Christian McCaffrey\\n\\nback in my lineup, but you cannot buy luck, and RNG will remain king.\\n\\nWe have some corner squares to monitor once again this week. The most\\nintriguing card to monitor has six to nine receptions (WR), more than 25\\nrushing attempts (RB), more than 200 total yards (RB), and more than 80\\nrushing yards (RB). The other potential corner square I will be monitoring\\ninclude 20-29 yard field goal (K), six to nine receptions (WR), more than 125\\ntotal yards (TE), and six to nine receptions (RB). There are some other\\ncorners with three achievements of note, but they are matched with one very\\nlow probability and very specific achievement as a likely roadblock.\\n\\nDifficult achievements included on my cards this week include two TDs rushing\\n+ one receiving TD + one passing TD (RB), three passing TDs in the second\\nquarter (QB), one rushing TD in the second quarter (WR), 25 rushing yards\\n(TE), 90 receiving yards (RB), zero field goals made (K), more than 50 rushing\\nyards (WR), one rushing TD and two receiving TDs (RB), 500 total yards (QB),\\n100 rushing yards (QB), five field goals made (K), two receiving TDs in the\\nfourth quarter (RB), one rushing TD in the fourth quarter (WR), three field\\ngoals missed (K), more than three sacks (QB), more than four passing TDs in\\nthe third quarter (QB), and more than four passing TDs in the fourth quarter\\n(QB). These, of course, are not the only challenging achievements, as there\\nare oddly specific achievements like the three passing TDs in the second\\nquarter littered across the skill positions. There are also more doable but\\nfar from a sure thing achievements like 125 receiving yards (TE), 150\\nreceiving yards (WR), and two TDs rushing plus one receiving (RB). These all\\nseem to be common achievements that have shown up each week.\\n\\nMy lineup for this week has some changes and a new strategy. Instead of going\\nwith two wide receivers and three running backs, I will be going with three\\nwideouts and two running backs. This may be a reaction to the choices at\\nrunning back or to Tyreek Hill\\n\\nand A.J. Brown\\n\\nboth being on bye. I will be going with Josh Allen\\n\\nat quarterback due to a plus matchup against the Denver Broncos and will be\\ntapping teammate Tyler Bass\\n\\n, as he should have plenty of field goal opportunities to both miss and make.\\nAt running back, I will be going with CMC and Alvin Kamara\\n\\n. CMC is a lineup mainstay, and Kamara has been a factor both on the ground\\nand through the air, which lends itself well to achievement chasing. At wide\\nreceiver, I will be going with some of the week’s top options in Stefon Diggs\\n\\n, CeeDee Lamb\\n\\n, and Amon-Ra St. Brown\\n\\n. Finally, at tight end, I have to decide between Mark Andrews\\n\\nand Sam LaPorta\\n\\n. I tapped LaPorta due to a more favorable matchup.\\n\\n**A Fantasy Sports Platform for Fantasy Players: Sign Up for RivalFantasy\\nToday!**\\n\\n**Subscribe** : **Apple Podcasts** | **Spotify** | **Google Podcasts** | **SoundCloud** | **iHeartRadio**\\n\\n_Raju Byfield is a featured writer for FantasyPros. For more from Raju, check\\nout his**profile **and follow him **@FantasyContext**._\\n\\nDFS NFL Josh Downs Keaton Mitchell Devon Achane Alexander Mattison Dalvin Cook\\nChristian McCaffrey Tyreek Hill A.J. Brown Josh Allen Tyler Bass Alvin Kamara\\nStefon Diggs CeeDee Lamb Amon-Ra St. Brown Mark Andrews Sam LaPorta\\n\\n__ YouTube\\n\\n0 K\\n\\n__ Follow\\n\\n## More Articles\\n\\n### 13 NFL Coordinator Changes & Fantasy Football Impact (2024)\\n\\nby **Chad Workman** | 11 min read\\n\\n### Late-Round Quarterback Best Ball Draft Strategy (2024 Fantasy Football)\\n\\nby **Tom Strachan** | 4 min read\\n\\n### Fantasy Football Rumors & News: Tee Higgins, Geno Smith, Derek Carr (2024)\\n\\nby **FantasyPros Staff** | 1 min read\\n\\n### 2024 NFL Free Agents: Noah Fant, Gerald Everett, Mike Gesicki, Austin\\nHooper\\n\\nby **FantasyPros Staff** | 3 min read\\n\\n# About Author\\n\\nRaju Byfield\\n\\n|\\n\\n@FantasyContext\\n\\nRaju Byfield is a featured writer at FantasyPros, providing unique insights\\nand in-depth analysis.\\n\\nStart here! New to FantasyPros? Sign up to get free, custom advice for your\\nFantasy Team.\\n\\nContinue with Google Continue with Apple Create account\\n\\nBy registering or logging in, you agree to our Terms of Use and Privacy Policy\\n\\n# Go Premium For FREE\\n\\nMake a minimum deposit with a partner and get up to a 1-Year Subscription for\\nFREE. Paid entry at select sites required.\\n\\nClaim Offer\\n\\n# Recent Articles\\n\\n13 NFL Coordinator Changes & Fantasy Football Impact (2024)\\n\\n19h ago\\n\\nLate-Round Quarterback Best Ball Draft Strategy (2024 Fantasy Football)\\n\\n19h ago\\n\\nFantasy Football Rumors & News: Tee Higgins, Geno Smith, Derek Carr (2024)\\n\\n20h ago\\n\\n2024 NFL Free Agents: Noah Fant, Gerald Everett, Mike Gesicki, Austin Hooper\\n\\n22h ago\\n\\nDynasty Rookie Draft Advice: Jalen McMillan, Johnny Wilson, Jamari Thrash\\n(2024)\\n\\n22h ago\\n\\nFantasy Football Mock Draft: Breece Hall, Kyren Williams, Sam LaPorta (2024)\\n\\n22h ago\\n\\nDynasty Trade Advice: Joe Burrow, Tee Higgins, Derrick Henry, Tyjae Spears\\n(2024 Fantasy Football)\\n\\n22h ago\\n\\n## Command Center\\n\\n## League Hub Navigation\\n\\nSync your league\\n\\nSync\\n\\n-\\n\\nGrade\\n\\n-\\n\\nDrafts\\n\\nCheat Sheet\\n\\nDraft Kit\\n\\nDraft Intel\\n\\nDraft Assistant\\n\\nPlayer Rankings\\n\\n## League Hub Console\\n\\n## League Sync\\n\\n### Sync your NFL  \\nleague for FREE!\\n\\nImport your fantasy league and get personalized advice for your team.\\n\\nSync Your League\\n\\nAlready Synced? Sign In\\n\\n## Mock Draft\\n\\n-\\n\\nAverage Mock  \\nDraft Grade\\n\\n-\\n\\nTotal Mock  \\nDrafts\\n\\nMock Draft Now\\n\\n## Draft Toolkit\\n\\nDraft Kit\\n\\nDraft Intel\\n\\nCheat Sheet\\n\\nDraft Assistant\\n\\n## Player Rankings\\n\\n## Player Rankings\\n\\n  * Draft Rankings\\n\\nView\\n\\n  * Dynasty Rankings\\n\\nView\\n\\n  * FantasyPros Expert Rankings\\n\\nView\\n\\n  * Best Ball Rankings\\n\\nView\\n\\n  * Rookie Rankings\\n\\nView\\n\\nClose league hub\\n\\n  *     * NFL\\n    * MLB\\n    * NBA\\n    * NHL\\n  *     * AdvertisersAdvertise With Us\\n    * AffiliatesAffiliate Application\\n    * Expert Platform\\n    * Gift Cards\\n  *     * Mobile Apps\\n    * News Desk\\n    * Shop __\\n    * Sports Betting\\n\\n  * __FantasyPros on YouTube\\n  * __FantasyPros on Twitter\\n  * __FantasyPros on Instagram\\n  * __FantasyPros on Facebook\\n\\n  * Privacy\\n  * Do Not Sell\\n  * Terms\\n  * Accessibility\\n  * Company\\n  * Blog\\n  * Jobs\\n  * Contact\\n  * Help\\n  * Premium\\n  * Sign Up\\n  * Sign In\\n\\n© Copyright 2010-2024 FantasyPros.com  \\nDo Not Sell My Personal Information\\n\\n__\\n\\nDo Not Sell\\n\\nAre you looking to contact Customer Support about a subscription or account\\nrelated question?\\n\\n  \\n\\nYes\\n\\n  \\n\\nNo, I'm a California resident looking for the California Consumer Privacy Act\\nform\\n\\nCurrent Article\\n\\n|\\n\\n__3 min read\\n\\nNext Up - **13 NFL Coordinator Changes & Fantasy Football Impact (2024)**\\n\\nNext Article  \\n\\n\", metadata={'source': 'https://www.fantasypros.com/2023/11/rival-fantasy-nfl-week-10/'}),\n",
       " Document(page_content=\"By accessing this site you agree to our  \\nprivacy policy and terms of use.  Accept\\n\\nSkip to main content\\n\\n__\\n\\nPremium __\\n\\n< Back Draft Wizard __\\n\\n< Back My Playbook __\\n\\n< Back NFL __\\n\\n< Back MLB __\\n\\n< Back NBA __\\n\\n< Back NHL __\\n\\n< Back DFS __\\n\\n< Back BettingPros\\n\\n< Back  More... __\\n\\n  *     * PGA\\n\\n< Back Draft Wizard __\\n\\n< Back My Playbook __\\n\\nGame DayLive!\\n\\nPremium\\n\\n__\\n\\n__\\n\\n__\\n\\nSearch for more!\\n\\nYou can now search for Tools, Reports, Articles, Rankings, as well as Players\\nand Teams.\\n\\nStart New Search\\n\\n__View your notifications\\n\\n__\\n\\n## Notifications\\n\\n### No notifications\\n\\nYou don't currently have any notifications\\n\\nSign In\\n\\n__\\n\\n## Loading your leagues\\n\\n__\\n\\n  * My Account\\n  * My Leagues\\n  * Premium\\n  * Mobile Apps\\n  * Discord Chat\\n  * Forum\\n  * Sign In\\n  * Sign Up\\n  * Help\\n  * Sign Out\\n\\nHelp\\n\\nNew\\n\\n  * NFL Home\\n  * Tools __\\n    *       * Draft\\n      * Draft Simulator\\n      * Mock Draft Lobby\\n      * Live Draft Assistant\\n      * Draft Kit\\n      * Best Ball Draft Kit\\n      * Cheat Sheet Creator\\n      * Salary Cap Simulator\\n      * Salary Cap Calculator\\n      * Perfect Draft Challenge\\n      * Draft Analyzer\\n      * QBBC Finder\\n      * Draft Order Generator\\n      * Draft Software\\n      * Who Should I Draft?\\n    *       * In-Season\\n      * My Playbook\\n      * Who Should I Start?\\n      * Start/Sit Assistant\\n      * Auto-Pilot\\n      * Waiver Central\\n      * Waiver Assistant\\n      * Free Agent Finder\\n      * Trade Analyzer\\n      * Trade Central\\n      * Trade Finder\\n      * Multi-League Assistant\\n      * Game Day\\n    *       * Sports Betting\\n      * Prop Bet Cheat Sheet\\n      * PrizePicks Cheat Sheet\\n      * Prop Bet Analyzer\\n      * Game Picks\\n      * Bet Dashboard\\n      * Live Odds\\n      * Mobile App\\n  * Rankings __\\n    *       * 2024 Draft\\n      * Expert Consensus Rankings\\n      * Half PPR Rankings\\n      * PPR Rankings\\n      * Standard Rankings\\n      * IDP Rankings\\n      * FantasyPros Experts\\n      * Sleeper Rankings\\n      * Player Notes\\n      * Average Draft Position\\n      * Cheat Sheets\\n      * Expert Directory\\n      * Best Ball ADP\\n    *       * Dynasty\\n      * Expert Consensus Rankings\\n      * Rookie Rankings\\n      * Trade Value Chart\\n      * Prospect Rankings\\n      * IDP Rankings\\n      * FantasyPros Experts\\n      * Expert Directory\\n    *       * Weekly\\n      * Expert Consensus Rankings\\n      * Half PPR Rankings\\n      * PPR Rankings\\n      * Standard Rankings\\n      * IDP Rankings\\n      * FantasyPros Experts\\n      * Waiver Wire\\n      * Expert Directory\\n      * Player Notes\\n    *       * Rest of Season\\n      * Expert Consensus Rankings\\n      * Half PPR Rankings\\n      * PPR Rankings\\n      * Standard Rankings\\n      * Player Notes\\n      * Expert Directory\\n  * Projections __\\n    * Weekly\\n    * Full Season\\n  * Stats __\\n    * Fantasy Football Stats\\n    * Most Targeted Players\\n    * NFL Snap Count Leaders\\n    * NFL Red Zone Stats\\n    * Advanced Quarterback Stats\\n    * Advanced Running Back Stats\\n    * Advanced Wide Receiver Stats\\n    * Advanced Tight End Stats\\n    * Fantasy Points Allowed\\n  * Research __\\n    *       * Research\\n      * 2023 Projections\\n      * Weekly Projections\\n      * Projected Leaders\\n      * Betting Odds\\n      * Prop Bet Cheat Sheet\\n      * Prop Bet Analyzer\\n      * Bet Dashboard\\n      * Game Picks\\n      * Inactives List\\n      * Injuries\\n      * Player Insights\\n      * Strategy Tips\\n      * Research\\n      * Research\\n      * Average Draft Position\\n      * Sleeper Rankings\\n    *       * Reports\\n      * Fantasy Leaders\\n      * Stats Leaders\\n      * Points Distribution\\n      * Target Leaders\\n      * Targets by Team\\n      * Snap Count Leaders\\n      * Snap Count Analysis\\n      * Fantasy Depth Charts\\n      * RB Handcuffs\\n      * Fantasy Points Allowed\\n      * Red Zone Stats\\n      * Advanced Stats\\n      * Value Based Drafting\\n      * Boom Bust Report\\n      * Touchdown Regression\\n      * Free Agency Tracker\\n    *       * Schedules\\n      * NFL Schedule\\n      * Opponents for Every Team\\n      * Strength of Schedule\\n      * Matchup Calendar\\n      * Bye Week Cheat Sheet\\n      * Bye Weeks by Team\\n    *       * Experts\\n      * In-Season Accuracy\\n      * Draft Accuracy\\n      * DFS Accuracy\\n      * Videos\\n      * Consensus Sleepers\\n      * Consensus Busts\\n      * Dissenting Opinions\\n      * Expert Directory\\n  * NFL Draft __\\n    *       * NFL Draft\\n      * 2024 Draft Guide\\n      * Mock Drafts\\n      * Consensus Mock Draft\\n      * Big Board\\n      * Prospect Rankings\\n      * Mock Draft Accuracy\\n      * Podcast\\n      * Videos\\n      * Articles\\n    *       * Combine Results\\n      * Overall\\n      * 40-Yard Dash\\n      * Bench Press\\n      * Vertical Jump\\n      * Broad Jump\\n      * 20-Yard Shuttle\\n  * Dynasty __\\n    * Dynasty Draft Kit\\n    * Trade Value Chart\\n    * Dynasty Rankings\\n    * Rookie Rankings\\n    * Mock Drafts\\n    * Rookie Draft Simulator\\n    * Dynasty Draft Simulator\\n    * Articles\\n    * Podcast\\n  * Articles __\\n    * Sleepers\\n    * Busts\\n    * Dynasty\\n    * Strategy\\n    * Trade Advice\\n    * Daily Fantasy\\n  * News __\\n    *       * Player Updates\\n      * All News\\n      * Breaking\\n      * Rumors\\n      * Injuries\\n      * Transactions\\n      * NFL Draft\\n    *       * Featured\\n      * Injuries\\n      * Sleepers\\n      * Busts\\n      * Strategy\\n      * Start/Sit\\n      * Waiver Wire\\n      * Rankings\\n      * Dynasty\\n      * Player Profiles\\n      * Rookies\\n      * Partner Articles\\n      * Podcasts\\n      * Videos\\n  * Podcast __\\n    * Fantasy Football\\n    * Dynasty Football\\n    * Game Changers\\n    * The Kickoff\\n    * Promo Codes\\n  * Apps\\n\\n#  5 Stats To Know Before Setting Your Fantasy Lineup (Week 10)\\n\\nby  Joe Pepe  |  @Jpep20 |  Nov 10, 2023\\n\\nWeek 10 of the NFL season is here, and the fantasy football playoffs are fast\\napproaching. Of course, with every team battling for the playoffs, we lose\\nsignificant players in their bye weeks. This week, we lose the Kanas City\\nChiefs, Miami Dolphins and Philadelphia Eagles fantasy studs, so navigating\\nthe crucial stats is an essential part of our Week 10 research that will help\\nus win. As we enter the final stretch of the regular season, every point\\ncounts, and it’s crucial to stay up-to-date with the latest stats and trends\\nto get the edge over your opponents.\\n\\nIn this article, we’ll look at some standout statistics heading into Week 10\\nand how they can impact your fantasy football team moving forward. Whether\\nyou’re fighting for a playoff spot or looking to secure a bye week, the\\ninsights and analysis in this article will help you make the right moves to\\nwin your league.\\n\\n  * Waiver Wire Picks\\n  * Weekly Fantasy Football Expert Rankings\\n  * Fantasy Football Start/Sit Advice\\n  * Fantasy Football Trade Tools\\n\\n## 5 Stats To Know Before Setting Your Fantasy Lineup\\n\\n### **Kareem Hunt (RB – CLE)\\n\\nIs Inevitable**\\n\\nUsually, our titles are all song lyrics; however, with The Marvels coming out\\nand the Loki season finale on deck in my DVR, I’m leaning into a Thanos\\nreference. That is precisely what Kareem Hunt has been to the fantasy football\\nvalue of Jerome Ford\\n\\nthis season, as his inside the 5 totals have been inevitable (see now, you are\\nenvisioning the snap, too, right?)\\n\\nKareem Hunt is the fourth highest when it relates to inside the 5 rushing\\nattempt percentage in the ENTIRE NFL. He has played six games and didn’t even\\nstart on a roster to begin the 2023 season. With the Cleveland Browns, Jerome\\nFord has been pushed into the “Between the 20s” running back who needs a\\nhomerun shot to bring your fantasy team a ceiling play. Kareem Hunt is the\\nhammer that finishes off the drives for the Browns. With Deshaun Watson\\n\\ndealing with injury, the Browns will continue to lean on their running backs.\\nHunt should provide a “Walmart” version of David Montgomery\\n\\nwithin this Cleveland Browns offense.\\n\\n### **My Name isAlexander Mattison\\n\\nand There’s A Million Things I Haven’t Done**\\n\\nHonestly, just being able to write something that includes the hit smash\\nmusical Hamilton makes me happy, but Alexander Mattison has returned to\\nBellcow/ Volume King running back status. With Cam Akers\\n\\nsuffering another torn Achilles, we have a backfield that returns to the start\\nof the season with Alexander Mattison and Ty Chandler\\n\\n.\\n\\nHow did that break down the first few weeks of the year? In the first three\\nweeks of the year, Mattison received a snap percentage of over 73% in every\\ngame. He has seen a 61.8% snap percentage throughout the 2023 NFL season.\\nMattison also produced the fourth-highest expected fantasy points for running\\nbacks. It may not be pretty and you may not want to watch it progress, but\\nMattison can take over this offense. It’s an offense now without Cousins and\\nleaning on Joshua Dobbs\\n\\n. It’s the same offense that still needs Justin Jefferson\\n\\nto return. Mattison will have to play a role for this team in the coming\\nweeks. If you have sat him on the bench over the last few weeks, now is the\\ntime to allow Alexander Mattison to return to your starting lineup.\\n\\n### **We Found Love In A Hopeless Place**\\n\\nWe hope you have the Rihanna hit playing in your head like we do right now\\nwhile we write this section. However, let’s discuss Jordan Love\\n\\n. He was a hot commodity in the first few weeks of the season. However, since\\nthen, everyone has done their best to avoid Love and his offense in general\\n(minus Aaron Jones\\n\\n).\\n\\nDid you know Love has untapped potential due to drops within the 2023 NFL\\nseason? Jordan Love is second in the NFL with dropped air yards, only behind\\nthe reigning MVP Patrick Mahomes\\n\\n. Love has not been amazing, but he has not received the help he deserves to\\nflourish.\\n\\nThis week, he faces a Steelers defense that allows wide receivers to manhandle\\nthem across the board every week. Let’s break that down next.\\n\\n### **If It Ain’t Broke, Don’t Fix It**\\n\\nIn this article, We have explained every week that you want to target outside\\nwide receivers against the Pittsburgh Steelers. Here are the stats through the\\nentire 2023 NFL season:\\n\\nWeek 1: Brandon Aiyuk\\n\\n8 receptions/129 yards/2 touchdowns  \\nWeek 2: Amari Cooper\\n\\n7/90  \\nWeek 3: Davante Adams\\n\\n13/172/ 2  \\nWeek 4: Nico Collins\\n\\n7/168/2  \\nWeek 5: Zay Flowers\\n\\n5/73  \\nWeek 7: Puka Nacua\\n\\n8/154  \\nWeek 8: Calvin Ridley\\n\\n6/83  \\nWeek 9: DeAndre Hopkins\\n\\n4/60\\n\\nRomeo Doubs is up next with an 87.7 wide rate percentage. Remember to use him\\nif you have him. If you have Jayden Reed\\n\\n, he is useable as well this week. The Steelers also struggle in the slot, the\\nperfect example being Kyle Phillips\\n\\ndestroying them last week. We understand these two teams love to hit the under\\nin Vegas, but there are fantasy nuggets to be obtained within this game using\\nthe Green Bay Packers wide receivers.\\n\\n### **I Want To Fly Like A… Seahawk?**\\n\\nThe Washington Commanders defense is one we have been targeting all season and\\nwe can’t stop now in Week 10. The Seattle Seahawks stroll into this battle\\nwith a trio of talented wide receivers facing a defensive backroom that allows\\nthe second most receiving yards at the position. They have also allowed the\\nsecond-most touchdowns to the wide receiver position and the third-most\\nfantasy points per game to the position. We are still going, as this defense\\nhas the worst passer rating in the NFL when trying to cover wide receivers.\\n\\nThe same Commanders’ defense allows their opposition wide receivers to obtain\\nthe 12th-highest endzone target totals. Inside those targets, the Commanders’\\ndefense has allowed wide receivers the third-highest number of endzone\\ntouchdowns. When you combine all these stats with the fact that the\\nCommanders’ offense is running the second-highest neutral passing rate since\\nOctober, you create the perfect storm for fantasy points across the board.\\n\\nRemember to read all the fantastic work here at FantasyPros and reach out on\\nTwitter at @jpep20 if you need extra help. Good luck in Week 10!\\n\\n**Subscribe** : **Apple Podcasts** | **Spotify** | **Google Podcasts** | **Stitcher** | **SoundCloud** | **iHeartRadio**\\n\\nNFL Weekly Advice Kareem Hunt Jerome Ford Deshaun Watson David Montgomery\\nAlexander Mattison Cam Akers Ty Chandler Joshua Dobbs Justin Jefferson Jordan\\nLove Aaron Jones Patrick Mahomes Brandon Aiyuk Amari Cooper Davante Adams Nico\\nCollins Zay Flowers Puka Nacua Calvin Ridley DeAndre Hopkins Jayden Reed Kyle\\nPhillips\\n\\n__ YouTube\\n\\n0 K\\n\\n__ Follow\\n\\n## More Articles\\n\\n### 13 NFL Coordinator Changes & Fantasy Football Impact (2024)\\n\\nby **Chad Workman** | 11 min read\\n\\n### Late-Round Quarterback Best Ball Draft Strategy (2024 Fantasy Football)\\n\\nby **Tom Strachan** | 4 min read\\n\\n### Fantasy Football Rumors & News: Tee Higgins, Geno Smith, Derek Carr (2024)\\n\\nby **FantasyPros Staff** | 1 min read\\n\\n### 2024 NFL Free Agents: Noah Fant, Gerald Everett, Mike Gesicki, Austin\\nHooper\\n\\nby **FantasyPros Staff** | 3 min read\\n\\n# About Author\\n\\nJoe Pepe\\n\\n|\\n\\n@Jpep20\\n\\nFormer professional soccer player turned fantasy lover. Born and raised in\\nPhiladelphia but I’m here to help with all your football questions.\\n\\nStart here! New to FantasyPros? Sign up to get free, custom advice for your\\nFantasy Team.\\n\\nContinue with Google Continue with Apple Create account\\n\\nBy registering or logging in, you agree to our Terms of Use and Privacy Policy\\n\\n# Go Premium For FREE\\n\\nMake a minimum deposit with a partner and get up to a 1-Year Subscription for\\nFREE. Paid entry at select sites required.\\n\\nClaim Offer\\n\\n# Recent Articles\\n\\n13 NFL Coordinator Changes & Fantasy Football Impact (2024)\\n\\n19h ago\\n\\nLate-Round Quarterback Best Ball Draft Strategy (2024 Fantasy Football)\\n\\n19h ago\\n\\nFantasy Football Rumors & News: Tee Higgins, Geno Smith, Derek Carr (2024)\\n\\n20h ago\\n\\n2024 NFL Free Agents: Noah Fant, Gerald Everett, Mike Gesicki, Austin Hooper\\n\\n22h ago\\n\\nDynasty Rookie Draft Advice: Jalen McMillan, Johnny Wilson, Jamari Thrash\\n(2024)\\n\\n22h ago\\n\\nFantasy Football Mock Draft: Breece Hall, Kyren Williams, Sam LaPorta (2024)\\n\\n22h ago\\n\\nDynasty Trade Advice: Joe Burrow, Tee Higgins, Derrick Henry, Tyjae Spears\\n(2024 Fantasy Football)\\n\\n22h ago\\n\\n## Command Center\\n\\n## League Hub Navigation\\n\\nSync your league\\n\\nSync\\n\\n-\\n\\nGrade\\n\\n-\\n\\nDrafts\\n\\nCheat Sheet\\n\\nDraft Kit\\n\\nDraft Intel\\n\\nDraft Assistant\\n\\nPlayer Rankings\\n\\n## League Hub Console\\n\\n## League Sync\\n\\n### Sync your NFL  \\nleague for FREE!\\n\\nImport your fantasy league and get personalized advice for your team.\\n\\nSync Your League\\n\\nAlready Synced? Sign In\\n\\n## Mock Draft\\n\\n-\\n\\nAverage Mock  \\nDraft Grade\\n\\n-\\n\\nTotal Mock  \\nDrafts\\n\\nMock Draft Now\\n\\n## Draft Toolkit\\n\\nDraft Kit\\n\\nDraft Intel\\n\\nCheat Sheet\\n\\nDraft Assistant\\n\\n## Player Rankings\\n\\n## Player Rankings\\n\\n  * Draft Rankings\\n\\nView\\n\\n  * Dynasty Rankings\\n\\nView\\n\\n  * FantasyPros Expert Rankings\\n\\nView\\n\\n  * Best Ball Rankings\\n\\nView\\n\\n  * Rookie Rankings\\n\\nView\\n\\nClose league hub\\n\\n  *     * NFL\\n    * MLB\\n    * NBA\\n    * NHL\\n  *     * AdvertisersAdvertise With Us\\n    * AffiliatesAffiliate Application\\n    * Expert Platform\\n    * Gift Cards\\n  *     * Mobile Apps\\n    * News Desk\\n    * Shop __\\n    * Sports Betting\\n\\n  * __FantasyPros on YouTube\\n  * __FantasyPros on Twitter\\n  * __FantasyPros on Instagram\\n  * __FantasyPros on Facebook\\n\\n  * Privacy\\n  * Do Not Sell\\n  * Terms\\n  * Accessibility\\n  * Company\\n  * Blog\\n  * Jobs\\n  * Contact\\n  * Help\\n  * Premium\\n  * Sign Up\\n  * Sign In\\n\\n© Copyright 2010-2024 FantasyPros.com  \\nDo Not Sell My Personal Information\\n\\n__\\n\\nDo Not Sell\\n\\nAre you looking to contact Customer Support about a subscription or account\\nrelated question?\\n\\n  \\n\\nYes\\n\\n  \\n\\nNo, I'm a California resident looking for the California Consumer Privacy Act\\nform\\n\\nCurrent Article\\n\\n|\\n\\n__3 min read\\n\\nNext Up - **13 NFL Coordinator Changes & Fantasy Football Impact (2024)**\\n\\nNext Article  \\n\\n\", metadata={'source': 'https://www.fantasypros.com/2023/11/5-stats-to-know-before-setting-your-fantasy-lineup-week-10/'}),\n",
       " Document(page_content=\"By accessing this site you agree to our  \\nprivacy policy and terms of use.  Accept\\n\\nSkip to main content\\n\\n__\\n\\nPremium __\\n\\n< Back Draft Wizard __\\n\\n< Back My Playbook __\\n\\n< Back NFL __\\n\\n< Back MLB __\\n\\n< Back NBA __\\n\\n< Back NHL __\\n\\n< Back DFS __\\n\\n< Back BettingPros\\n\\n< Back  More... __\\n\\n  *     * PGA\\n\\n< Back Draft Wizard __\\n\\n< Back My Playbook __\\n\\nGame DayLive!\\n\\nPremium\\n\\n__\\n\\n__\\n\\n__\\n\\nSearch for more!\\n\\nYou can now search for Tools, Reports, Articles, Rankings, as well as Players\\nand Teams.\\n\\nStart New Search\\n\\nSign In\\n\\n__\\n\\n## Loading your leagues\\n\\n__\\n\\n  * My Account\\n  * My Leagues\\n  * Premium\\n  * Mobile Apps\\n  * Discord Chat\\n  * Forum\\n  * Sign In\\n  * Sign Up\\n  * Help\\n  * Sign Out\\n\\nHelp\\n\\nNew\\n\\n  * NFL Home\\n  * Tools __\\n    *       * Draft\\n      * Draft Simulator\\n      * Mock Draft Lobby\\n      * Live Draft Assistant\\n      * Draft Kit\\n      * Best Ball Draft Kit\\n      * Cheat Sheet Creator\\n      * Salary Cap Simulator\\n      * Salary Cap Calculator\\n      * Perfect Draft Challenge\\n      * Draft Analyzer\\n      * QBBC Finder\\n      * Draft Order Generator\\n      * Draft Software\\n      * Who Should I Draft?\\n    *       * In-Season\\n      * My Playbook\\n      * Who Should I Start?\\n      * Start/Sit Assistant\\n      * Auto-Pilot\\n      * Waiver Central\\n      * Waiver Assistant\\n      * Free Agent Finder\\n      * Trade Analyzer\\n      * Trade Central\\n      * Trade Finder\\n      * Multi-League Assistant\\n      * Game Day\\n    *       * Sports Betting\\n      * Prop Bet Cheat Sheet\\n      * PrizePicks Cheat Sheet\\n      * Prop Bet Analyzer\\n      * Game Picks\\n      * Bet Dashboard\\n      * Live Odds\\n      * Mobile App\\n  * Rankings __\\n    *       * 2024 Draft\\n      * Expert Consensus Rankings\\n      * Half PPR Rankings\\n      * PPR Rankings\\n      * Standard Rankings\\n      * IDP Rankings\\n      * FantasyPros Experts\\n      * Sleeper Rankings\\n      * Player Notes\\n      * Average Draft Position\\n      * Cheat Sheets\\n      * Expert Directory\\n      * Best Ball ADP\\n    *       * Dynasty\\n      * Expert Consensus Rankings\\n      * Rookie Rankings\\n      * Trade Value Chart\\n      * Prospect Rankings\\n      * IDP Rankings\\n      * FantasyPros Experts\\n      * Expert Directory\\n    *       * Weekly\\n      * Expert Consensus Rankings\\n      * Half PPR Rankings\\n      * PPR Rankings\\n      * Standard Rankings\\n      * IDP Rankings\\n      * FantasyPros Experts\\n      * Waiver Wire\\n      * Expert Directory\\n      * Player Notes\\n    *       * Rest of Season\\n      * Expert Consensus Rankings\\n      * Half PPR Rankings\\n      * PPR Rankings\\n      * Standard Rankings\\n      * Player Notes\\n      * Expert Directory\\n  * Projections __\\n    * Weekly\\n    * Full Season\\n  * Stats __\\n    * Fantasy Football Stats\\n    * Most Targeted Players\\n    * NFL Snap Count Leaders\\n    * NFL Red Zone Stats\\n    * Advanced Quarterback Stats\\n    * Advanced Running Back Stats\\n    * Advanced Wide Receiver Stats\\n    * Advanced Tight End Stats\\n    * Fantasy Points Allowed\\n  * Research __\\n    *       * Research\\n      * 2023 Projections\\n      * Weekly Projections\\n      * Projected Leaders\\n      * Betting Odds\\n      * Prop Bet Cheat Sheet\\n      * Prop Bet Analyzer\\n      * Bet Dashboard\\n      * Game Picks\\n      * Inactives List\\n      * Injuries\\n      * Player Insights\\n      * Strategy Tips\\n      * Research\\n      * Research\\n      * Average Draft Position\\n      * Sleeper Rankings\\n    *       * Reports\\n      * Fantasy Leaders\\n      * Stats Leaders\\n      * Points Distribution\\n      * Target Leaders\\n      * Targets by Team\\n      * Snap Count Leaders\\n      * Snap Count Analysis\\n      * Fantasy Depth Charts\\n      * RB Handcuffs\\n      * Fantasy Points Allowed\\n      * Red Zone Stats\\n      * Advanced Stats\\n      * Value Based Drafting\\n      * Boom Bust Report\\n      * Touchdown Regression\\n      * Free Agency Tracker\\n    *       * Schedules\\n      * NFL Schedule\\n      * Opponents for Every Team\\n      * Strength of Schedule\\n      * Matchup Calendar\\n      * Bye Week Cheat Sheet\\n      * Bye Weeks by Team\\n    *       * Experts\\n      * In-Season Accuracy\\n      * Draft Accuracy\\n      * DFS Accuracy\\n      * Videos\\n      * Consensus Sleepers\\n      * Consensus Busts\\n      * Dissenting Opinions\\n      * Expert Directory\\n  * NFL Draft __\\n    *       * NFL Draft\\n      * 2024 Draft Guide\\n      * Mock Drafts\\n      * Consensus Mock Draft\\n      * Big Board\\n      * Prospect Rankings\\n      * Mock Draft Accuracy\\n      * Podcast\\n      * Videos\\n      * Articles\\n    *       * Combine Results\\n      * Overall\\n      * 40-Yard Dash\\n      * Bench Press\\n      * Vertical Jump\\n      * Broad Jump\\n      * 20-Yard Shuttle\\n  * Dynasty __\\n    * Dynasty Draft Kit\\n    * Trade Value Chart\\n    * Dynasty Rankings\\n    * Rookie Rankings\\n    * Mock Drafts\\n    * Rookie Draft Simulator\\n    * Dynasty Draft Simulator\\n    * Articles\\n    * Podcast\\n  * Articles __\\n    * Sleepers\\n    * Busts\\n    * Dynasty\\n    * Strategy\\n    * Trade Advice\\n    * Daily Fantasy\\n  * News __\\n    *       * Player Updates\\n      * All News\\n      * Breaking\\n      * Rumors\\n      * Injuries\\n      * Transactions\\n      * NFL Draft\\n    *       * Featured\\n      * Injuries\\n      * Sleepers\\n      * Busts\\n      * Strategy\\n      * Start/Sit\\n      * Waiver Wire\\n      * Rankings\\n      * Dynasty\\n      * Player Profiles\\n      * Rookies\\n      * Partner Articles\\n      * Podcasts\\n      * Videos\\n  * Podcast __\\n    * Fantasy Football\\n    * Dynasty Football\\n    * Game Changers\\n    * The Kickoff\\n    * Promo Codes\\n  * Apps\\n\\n#  NFL Week 10 Sleeper Picks Player Predictions (2023)\\n\\nby  Raju Byfield  |  @FantasyContext |  Nov 10, 2023\\n\\nWelcome to Sleeper Picks. Sleeper’s newest offering promised plenty of\\nentertainment and action, and they delivered. We will break down our top three\\npicks for this week’s NFL action. Sleeper is quickly becoming one of the most\\npopular season-long fantasy platforms, and they are expanding into other areas\\nbased on demand. Each week in this space, we’ll talk about some strategy for\\nthe new platform while providing our favorite NFL more/less picks.\\n\\n## **Sleeper Picks NFL Week 10**\\n\\n_Season record: 16-20_\\n\\n### **Alvin Kamara (RB – NO)\\n\\n: 34.5 receiving yards**\\n\\nAveraging 45.3 receiving yards per game this season, Alvin Kamara has been a\\nfocal point of the aerial attack with Derek Carr\\n\\nat quarterback. Kamara has averaged 42.8 receiving yards per game over his\\ncareer but saw a dip in consecutive years with Andy Dalton\\n\\nat quarterback. Now armed with an upgrade under Center and multiple weapons at\\nwideout to keep the defensive attention off him, Kamara is back to elite\\nreceiving numbers for a running back. Kamara has recorded 36 or more receiving\\nyards in four of his last five games and has topped 33 or more in five of six\\ngames this season. He is being peppered with targets regardless of opponent\\nand should be leaned on again in Week 10. Tap the More on Kamara for Week 10.\\n\\n**Pick: More**\\n\\n### **Amari Cooper (WR – CLE)\\n\\n: 50.5 receiving yards**\\n\\nAmari Cooper has been rock solid for the Cleveland Browns this season, even\\nthrough Deshaun Watson\\n\\nmissing games. He is Averaging 77.1 receiving yards per game, which is all the\\nmore impressive considering he had games catching passes from the likes of\\nDorian Thompson-Robinson\\n\\nand PJ Walker\\n\\n. Cooper has started to heat up in recent weeks, recording 89 or more\\nreceiving yards in three of his last four games and in five of his last seven.\\nThis week, he faces off against a stingy Ravens pass defense, but gamescipt\\nprojects to force the Browns to air it out. As a route technician, Cooper will\\nbe able to uncover enough to make some plays and set at just 50.5 receiving\\nyards; this is a play with too much value to ignore. Clap the More on Cooper\\nfor Week 10.\\n\\n**Pick: More**\\n\\n### **CeeDee Lamb (WR -DAL)\\n\\n: 79.5 receiving yards**\\n\\nCeeDee Lamb has caught fire for the Dallas Cowboys. With 117 or more receiving\\nyards in three straight games, CeeDee has upped his season average to 103\\nreceiving yards per game. He has seen insane volume over his last two,\\naveraging 15 targets a game. CeeDee has recorded 77 or more receiving yards in\\nfive of his eight contests this year and is an excellent bet to do so again\\nthis weekend. Lock in the More on CeeDee for Week 10.\\n\\n**Pick: More**\\n\\n_Writers note: The lines are constantly changing on Sleeper, so there is a\\nhigh probability that one or all of the numbers may no longer be the same when\\nyou open your app. There are excellent values when they are first posted, with\\nthe only catch being that they are not all released at the same time.\\nVigilance could provide a solid return on investment this season, literally._\\n\\n**Subscribe** : **Apple Podcasts** | **Spotify** | **Google Podcasts** | **SoundCloud** | **iHeartRadio**\\n\\n_Raju Byfield is a featured writer for FantasyPros. For more from Raju, check\\nout his**profile **and follow him **@FantasyContext**._\\n\\nDFS NFL Sleeper Picks Alvin Kamara Derek Carr Andy Dalton Amari Cooper Deshaun\\nWatson Dorian Thompson-Robinson PJ Walker CeeDee Lamb\\n\\n__ YouTube\\n\\n0 K\\n\\n__ Follow\\n\\n## More Articles\\n\\n### 13 NFL Coordinator Changes & Fantasy Football Impact (2024)\\n\\nby **Chad Workman** | 11 min read\\n\\n### Late-Round Quarterback Best Ball Draft Strategy (2024 Fantasy Football)\\n\\nby **Tom Strachan** | 4 min read\\n\\n### Fantasy Football Rumors & News: Tee Higgins, Geno Smith, Derek Carr (2024)\\n\\nby **FantasyPros Staff** | 1 min read\\n\\n### 2024 NFL Free Agents: Noah Fant, Gerald Everett, Mike Gesicki, Austin\\nHooper\\n\\nby **FantasyPros Staff** | 3 min read\\n\\n# About Author\\n\\nRaju Byfield\\n\\n|\\n\\n@FantasyContext\\n\\nRaju Byfield is a featured writer at FantasyPros, providing unique insights\\nand in-depth analysis.\\n\\nStart here! New to FantasyPros? Sign up to get free, custom advice for your\\nFantasy Team.\\n\\nContinue with Google Continue with Apple Create account\\n\\nBy registering or logging in, you agree to our Terms of Use and Privacy Policy\\n\\n# Go Premium For FREE\\n\\nMake a minimum deposit with a partner and get up to a 1-Year Subscription for\\nFREE. Paid entry at select sites required.\\n\\nClaim Offer\\n\\n# Recent Articles\\n\\n13 NFL Coordinator Changes & Fantasy Football Impact (2024)\\n\\n19h ago\\n\\nLate-Round Quarterback Best Ball Draft Strategy (2024 Fantasy Football)\\n\\n19h ago\\n\\nFantasy Football Rumors & News: Tee Higgins, Geno Smith, Derek Carr (2024)\\n\\n20h ago\\n\\n2024 NFL Free Agents: Noah Fant, Gerald Everett, Mike Gesicki, Austin Hooper\\n\\n22h ago\\n\\nDynasty Rookie Draft Advice: Jalen McMillan, Johnny Wilson, Jamari Thrash\\n(2024)\\n\\n22h ago\\n\\nFantasy Football Mock Draft: Breece Hall, Kyren Williams, Sam LaPorta (2024)\\n\\n22h ago\\n\\nDynasty Trade Advice: Joe Burrow, Tee Higgins, Derrick Henry, Tyjae Spears\\n(2024 Fantasy Football)\\n\\n22h ago\\n\\n## Command Center\\n\\n## League Hub Navigation\\n\\nSync your league\\n\\nSync\\n\\n-\\n\\nGrade\\n\\n-\\n\\nDrafts\\n\\nCheat Sheet\\n\\nDraft Kit\\n\\nDraft Intel\\n\\nDraft Assistant\\n\\nPlayer Rankings\\n\\n## League Hub Console\\n\\n## League Sync\\n\\n### Sync your NFL  \\nleague for FREE!\\n\\nImport your fantasy league and get personalized advice for your team.\\n\\nSync Your League\\n\\nAlready Synced? Sign In\\n\\n## Mock Draft\\n\\n-\\n\\nAverage Mock  \\nDraft Grade\\n\\n-\\n\\nTotal Mock  \\nDrafts\\n\\nMock Draft Now\\n\\n## Draft Toolkit\\n\\nDraft Kit\\n\\nDraft Intel\\n\\nCheat Sheet\\n\\nDraft Assistant\\n\\n## Player Rankings\\n\\n## Player Rankings\\n\\n  * Draft Rankings\\n\\nView\\n\\n  * Dynasty Rankings\\n\\nView\\n\\n  * FantasyPros Expert Rankings\\n\\nView\\n\\n  * Best Ball Rankings\\n\\nView\\n\\n  * Rookie Rankings\\n\\nView\\n\\nClose league hub\\n\\n  *     * NFL\\n    * MLB\\n    * NBA\\n    * NHL\\n  *     * AdvertisersAdvertise With Us\\n    * AffiliatesAffiliate Application\\n    * Expert Platform\\n    * Gift Cards\\n  *     * Mobile Apps\\n    * News Desk\\n    * Shop __\\n    * Sports Betting\\n\\n  * __FantasyPros on YouTube\\n  * __FantasyPros on Twitter\\n  * __FantasyPros on Instagram\\n  * __FantasyPros on Facebook\\n\\n  * Privacy\\n  * Do Not Sell\\n  * Terms\\n  * Accessibility\\n  * Company\\n  * Blog\\n  * Jobs\\n  * Contact\\n  * Help\\n  * Premium\\n  * Sign Up\\n  * Sign In\\n\\n© Copyright 2010-2024 FantasyPros.com  \\nDo Not Sell My Personal Information\\n\\n__\\n\\nDo Not Sell\\n\\nAre you looking to contact Customer Support about a subscription or account\\nrelated question?\\n\\n  \\n\\nYes\\n\\n  \\n\\nNo, I'm a California resident looking for the California Consumer Privacy Act\\nform\\n\\nCurrent Article\\n\\n|\\n\\n__2 min read\\n\\nNext Up - **13 NFL Coordinator Changes & Fantasy Football Impact (2024)**\\n\\nNext Article  \\n\\n\", metadata={'source': 'https://www.fantasypros.com/2023/11/nfl-week-10-sleeper-picks-player-predictions-2023/'}),\n",
       " Document(page_content=\"By accessing this site you agree to our  \\nprivacy policy and terms of use.  Accept\\n\\nSkip to main content\\n\\n__\\n\\nPremium __\\n\\n< Back Draft Wizard __\\n\\n< Back My Playbook __\\n\\n< Back NFL __\\n\\n< Back MLB __\\n\\n< Back NBA __\\n\\n< Back NHL __\\n\\n< Back DFS __\\n\\n< Back BettingPros\\n\\n< Back  More... __\\n\\n  *     * PGA\\n\\n< Back Draft Wizard __\\n\\n< Back My Playbook __\\n\\nGame DayLive!\\n\\nPremium\\n\\n__\\n\\n__\\n\\n__\\n\\nSearch for more!\\n\\nYou can now search for Tools, Reports, Articles, Rankings, as well as Players\\nand Teams.\\n\\nStart New Search\\n\\nSign In\\n\\n__\\n\\n## Loading your leagues\\n\\n__\\n\\n  * My Account\\n  * My Leagues\\n  * Premium\\n  * Mobile Apps\\n  * Discord Chat\\n  * Forum\\n  * Sign In\\n  * Sign Up\\n  * Help\\n  * Sign Out\\n\\nHelp\\n\\nNew\\n\\n  * NFL Home\\n  * Tools __\\n    *       * Draft\\n      * Draft Simulator\\n      * Mock Draft Lobby\\n      * Live Draft Assistant\\n      * Draft Kit\\n      * Best Ball Draft Kit\\n      * Cheat Sheet Creator\\n      * Salary Cap Simulator\\n      * Salary Cap Calculator\\n      * Perfect Draft Challenge\\n      * Draft Analyzer\\n      * QBBC Finder\\n      * Draft Order Generator\\n      * Draft Software\\n      * Who Should I Draft?\\n    *       * In-Season\\n      * My Playbook\\n      * Who Should I Start?\\n      * Start/Sit Assistant\\n      * Auto-Pilot\\n      * Waiver Central\\n      * Waiver Assistant\\n      * Free Agent Finder\\n      * Trade Analyzer\\n      * Trade Central\\n      * Trade Finder\\n      * Multi-League Assistant\\n      * Game Day\\n    *       * Sports Betting\\n      * Prop Bet Cheat Sheet\\n      * PrizePicks Cheat Sheet\\n      * Prop Bet Analyzer\\n      * Game Picks\\n      * Bet Dashboard\\n      * Live Odds\\n      * Mobile App\\n  * Rankings __\\n    *       * 2024 Draft\\n      * Expert Consensus Rankings\\n      * Half PPR Rankings\\n      * PPR Rankings\\n      * Standard Rankings\\n      * IDP Rankings\\n      * FantasyPros Experts\\n      * Sleeper Rankings\\n      * Player Notes\\n      * Average Draft Position\\n      * Cheat Sheets\\n      * Expert Directory\\n      * Best Ball ADP\\n    *       * Dynasty\\n      * Expert Consensus Rankings\\n      * Rookie Rankings\\n      * Trade Value Chart\\n      * Prospect Rankings\\n      * IDP Rankings\\n      * FantasyPros Experts\\n      * Expert Directory\\n    *       * Weekly\\n      * Expert Consensus Rankings\\n      * Half PPR Rankings\\n      * PPR Rankings\\n      * Standard Rankings\\n      * IDP Rankings\\n      * FantasyPros Experts\\n      * Waiver Wire\\n      * Expert Directory\\n      * Player Notes\\n    *       * Rest of Season\\n      * Expert Consensus Rankings\\n      * Half PPR Rankings\\n      * PPR Rankings\\n      * Standard Rankings\\n      * Player Notes\\n      * Expert Directory\\n  * Projections __\\n    * Weekly\\n    * Full Season\\n  * Stats __\\n    * Fantasy Football Stats\\n    * Most Targeted Players\\n    * NFL Snap Count Leaders\\n    * NFL Red Zone Stats\\n    * Advanced Quarterback Stats\\n    * Advanced Running Back Stats\\n    * Advanced Wide Receiver Stats\\n    * Advanced Tight End Stats\\n    * Fantasy Points Allowed\\n  * Research __\\n    *       * Research\\n      * 2023 Projections\\n      * Weekly Projections\\n      * Projected Leaders\\n      * Betting Odds\\n      * Prop Bet Cheat Sheet\\n      * Prop Bet Analyzer\\n      * Bet Dashboard\\n      * Game Picks\\n      * Inactives List\\n      * Injuries\\n      * Player Insights\\n      * Strategy Tips\\n      * Research\\n      * Research\\n      * Average Draft Position\\n      * Sleeper Rankings\\n    *       * Reports\\n      * Fantasy Leaders\\n      * Stats Leaders\\n      * Points Distribution\\n      * Target Leaders\\n      * Targets by Team\\n      * Snap Count Leaders\\n      * Snap Count Analysis\\n      * Fantasy Depth Charts\\n      * RB Handcuffs\\n      * Fantasy Points Allowed\\n      * Red Zone Stats\\n      * Advanced Stats\\n      * Value Based Drafting\\n      * Boom Bust Report\\n      * Touchdown Regression\\n      * Free Agency Tracker\\n    *       * Schedules\\n      * NFL Schedule\\n      * Opponents for Every Team\\n      * Strength of Schedule\\n      * Matchup Calendar\\n      * Bye Week Cheat Sheet\\n      * Bye Weeks by Team\\n    *       * Experts\\n      * In-Season Accuracy\\n      * Draft Accuracy\\n      * DFS Accuracy\\n      * Videos\\n      * Consensus Sleepers\\n      * Consensus Busts\\n      * Dissenting Opinions\\n      * Expert Directory\\n  * NFL Draft __\\n    *       * NFL Draft\\n      * 2024 Draft Guide\\n      * Mock Drafts\\n      * Consensus Mock Draft\\n      * Big Board\\n      * Prospect Rankings\\n      * Mock Draft Accuracy\\n      * Podcast\\n      * Videos\\n      * Articles\\n    *       * Combine Results\\n      * Overall\\n      * 40-Yard Dash\\n      * Bench Press\\n      * Vertical Jump\\n      * Broad Jump\\n      * 20-Yard Shuttle\\n  * Dynasty __\\n    * Dynasty Draft Kit\\n    * Trade Value Chart\\n    * Dynasty Rankings\\n    * Rookie Rankings\\n    * Mock Drafts\\n    * Rookie Draft Simulator\\n    * Dynasty Draft Simulator\\n    * Articles\\n    * Podcast\\n  * Articles __\\n    * Sleepers\\n    * Busts\\n    * Dynasty\\n    * Strategy\\n    * Trade Advice\\n    * Daily Fantasy\\n  * News __\\n    *       * Player Updates\\n      * All News\\n      * Breaking\\n      * Rumors\\n      * Injuries\\n      * Transactions\\n      * NFL Draft\\n    *       * Featured\\n      * Injuries\\n      * Sleepers\\n      * Busts\\n      * Strategy\\n      * Start/Sit\\n      * Waiver Wire\\n      * Rankings\\n      * Dynasty\\n      * Player Profiles\\n      * Rookies\\n      * Partner Articles\\n      * Podcasts\\n      * Videos\\n  * Podcast __\\n    * Fantasy Football\\n    * Dynasty Football\\n    * Game Changers\\n    * The Kickoff\\n    * Promo Codes\\n  * Apps\\n\\n#  NFL DFS Week 10 Stacking Advice & Picks (2023 Fantasy Football)\\n\\nby  Joe Pepe  |  @Jpep20 |  Nov 10, 2023\\n\\nWelcome to Week 10 of the NFL season! As we approach the season’s midpoint, we\\nbegin to see rematches of division rivals, players returning from injuries and\\neven more bye weeks.\\n\\nIn this article, we’ll look at some top performers you can use in Week 10 to\\ntake down a slate. With a slate as ugly as Week 10, we must find the games we\\nlike and hammer them into the ground to build leverage on the opponents. That\\nis why you will see a lot of stacks from the same game:  You can mix and match\\nthese players. You can build double and even triple stacks with a bring-back\\nplayer from our first two stacks.\\n\\nLet’s dive right in!\\n\\n## **NFL DFS Week 10 Stacking Advice**\\n\\n### **Washington Commanders**\\n\\n  * **Sam Howell (QB – WAS)\\n\\n**\\n\\n  * **Terry McLaurin (WR – WAS)\\n\\n**\\n\\n  * **Jahan Dotson (WR – WAS)\\n\\n**\\n\\nSam Howell has been on a tear this season. Howell is QB6 on the season and has\\nbeen a passing volume monster, with his team second overall in neutral passing\\nrate since October. Howells ranks first in passing attempts, second in passing\\nyards and first in the air yards this season.\\n\\nRemember, he also can be a mobile quarterback, which, if you follow these\\narticles, you know my love of Konomi-code level quarterbacks. The other\\nsignificant factor for Howell is the game narrative. He is a slight underdog,\\naccording to Vegas. This stat is crucial because it means his team must pass\\nto keep up/take the lead. We also know from past research that favorites, not\\nunderdogs, are more heavily rostered in DFS. You can grab yourself a strong\\nquarterback and build leverage with Howell.\\n\\nHis receivers, Terry Mclaurin and Jahan Dotson, are under $6K on DraftKings\\nthis week. That is a criminal price for both wide receivers, especially if\\nCurtis Samuel\\n\\nisn’t 100% or misses the game. McLaurin ranks 11th in deep targets and 37th in\\nred zone targets. He also sports a 19.3% target share in 2023. McLaurin has\\nseen eight or more targets in each of the last four games. He has averaged\\n12.6 or higher yards per reception in all of those games. Mclaurin is a player\\nthat the gameplan is built around and should be acknowledged within your pool\\nand inserted into lineups.\\n\\nJahan Dotson is Samuel-dependent. If Samuel plays, avoid Dotson. If he\\ndoesn’t, Dotson should continue to string together multiple good games for\\nyour DFS lineup. In the last two games, he has seen 18 targets and had a\\ntouchdown in each game.\\n\\nYou must use one of these three players (if not all) in Week 10. If you\\ninstead use them as a bring-back player for your lineup, let me show you below\\nhow to build the Seattle Seahawks side of this game.\\n\\n### **Seattle Seahawks**\\n\\n  * **Geno Smith (QB – SEA)\\n\\n**\\n\\n  * **DK Metcalf (WR – SEA)\\n\\n**\\n\\n  * **Tyler Lockett (WR – SEA)\\n\\n**\\n\\n  * **Jaxon Smith-Njigba (WR – SEA)\\n\\n**\\n\\nI enjoy Howell over Geno Smith. However, your contest will depend on your\\nquarterback. If you want to lean into cash, Smith is your play. If you want to\\ntackle a slate, Howell is your man. The Washington Commanders’ defense is just\\nsad. You can target them with any of these players and do well on your slat. A\\nlot of who you decide on will be salary-determined. However, my favorite order\\nin usage is DK Metcalf, Tyler Lockett and then Jaxon Smith Njigba.\\n\\nThe Commanders have the worst passer rating when defending wide receivers, and\\nthey allow the 12th-highest endzone targets and relinquish the third-highest\\nendzone touchdown rate to wide receivers. With Metcalf’s size, he fits our\\nheight/weight markers, enabling your team to break a slate. We may have been a\\nweek early on him last week, but Metcalf and his muscles should lead you to\\nvictory this week.\\n\\n### **Cincinnati Bengals**\\n\\n  * **Ja’Marr Chase (WR – CIN)\\n\\n**\\n\\n  * **Bengals D/ST**\\n\\nThis section doesn’t need a plethora of stats. If Ja’Marr Chase plays, he is\\nalways an option in your player pool. If Chase plays and Tee Higgins\\n\\ndoesn’t, he is an automatic lock for your lineup against a team that could be\\nwithout Derek Stingley\\n\\n. Chase has game-breaking size and speed with the talent to dominate a slate\\nin one of the highest implied totals on the slate.\\n\\nAs for the defense, we should always reach for a slight favorite who will give\\nup an average amount of points. This allows us to build leverage. With how\\npoorly executed the Houston Texans run game has become paired with C.J. Stroud\\n\\n‘s struggles on the road, the Bengals’ defense could be the sneaky low-used\\noption you need for your lineup to takedown a slate in Week 10.\\n\\n### **Green Bay Packers vs. Pittsburgh Steelers**\\n\\n  * **Najee Harris (RB – PIT)\\n\\n**\\n\\n  * **Romeo Doubs (WR – GB)\\n\\n**\\n\\nLet’s start with Romeo Doubbs because we talked about this in my “5 Stats You\\nShould Know” article here on FantasyPros. Outside wide receivers destroy the\\nPittsburgh Steelers’ defense. Here are the statlines since Week 1:\\n\\nWeek 1: Brandon Aiyuk\\n\\n8/129/2  \\nWeek 2: Amari Cooper\\n\\n7/90  \\nWeek 3: Davante Adams\\n\\n13/172/ 2  \\nWeek 4: Nico Collins\\n\\n7/168/2  \\nWeek 5: Zay Flowers\\n\\n5/73  \\nWeek 7: Puka Nacua\\n\\n8/154  \\nWeek 8: Calvin Ridley\\n\\n6/83  \\nWeek 9: DeAndre Hopkins\\n\\n4/60\\n\\nDoubbs plays out wide at an 87.7% rate in 2023. Christian Watson\\n\\nis dealing with chest and back injuries. With Dobbs being the “big man” inside\\nthe red zone, we could see dividends on his stock immediately in this game.\\n\\nRecommending Najee Harris is like talking about Voldemort in Hogwarts; you\\nwill always get a look. However, Jaylen Warren\\n\\ncan’t keep Harris off the field, as Harris still has over 50% snap rates. Mike\\nTomlin loves to be a one-running back coach. This year is an uncomfortable\\ndeparture from his style, but he is still holding on with every bit of his\\nmight. Harris rewarded him last week with his best game to date in 2023. He\\nfinished as the RB12 with 16 rushing attempts for 69 yards and a touchdown.\\n\\nThis week, Harris faces the bottom-of-the-barrel Packers’ run defense that\\nallows the ninth-most fantasy points per game to the running back position.\\nHarris will give you a higher-volume RB with a low rostership percentage this\\nweek.\\n\\n  \\n**Subscribe** : **Apple Podcasts** | **Spotify** | **Google Podcasts** | **Stitcher** | **SoundCloud** | **iHeartRadio**\\n\\n_Remember to peruse all the fantastic work here atFantasyPros, and feel free\\nto contact me on Twitter at @jpep20. Remember these stacks and the rules of\\nDFS we have discussed over these past seven weeks, and good luck in Week 10!_\\n\\nDFS DFS DFS Advice NFL Sam Howell Terry McLaurin Jahan Dotson Curtis Samuel\\nGeno Smith DK Metcalf Tyler Lockett Jaxon Smith-Njigba Ja’Marr Chase Tee\\nHiggins Derek Stingley C.J. Stroud Najee Harris Romeo Doubs Brandon Aiyuk\\nAmari Cooper Davante Adams Nico Collins Zay Flowers Puka Nacua Calvin Ridley\\nDeAndre Hopkins Christian Watson Jaylen Warren\\n\\n__ YouTube\\n\\n0 K\\n\\n__ Follow\\n\\n## More Articles\\n\\n### 13 NFL Coordinator Changes & Fantasy Football Impact (2024)\\n\\nby **Chad Workman** | 11 min read\\n\\n### Late-Round Quarterback Best Ball Draft Strategy (2024 Fantasy Football)\\n\\nby **Tom Strachan** | 4 min read\\n\\n### Fantasy Football Rumors & News: Tee Higgins, Geno Smith, Derek Carr (2024)\\n\\nby **FantasyPros Staff** | 1 min read\\n\\n### 2024 NFL Free Agents: Noah Fant, Gerald Everett, Mike Gesicki, Austin\\nHooper\\n\\nby **FantasyPros Staff** | 3 min read\\n\\n# About Author\\n\\nJoe Pepe\\n\\n|\\n\\n@Jpep20\\n\\nFormer professional soccer player turned fantasy lover. Born and raised in\\nPhiladelphia but I’m here to help with all your football questions.\\n\\n# 🔥 Popular Tools\\n\\n__ __\\n\\nDraft Wizard Mock Draft Simulator\\n\\n__\\n\\nFantasyPros Consensus Rankings\\n\\n__\\n\\nFantasyPros Dynasty Rankings\\n\\n__\\n\\nMy Playbook Manage Your League\\n\\n__\\n\\nMy Playbook Trade Analyzer\\n\\n__\\n\\nDraft Wizard Perfect Draft Challenge\\n\\n__\\n\\n# Go Premium For FREE\\n\\nMake a minimum deposit with a partner and get up to a 1-Year Subscription for\\nFREE. Paid entry at select sites required.\\n\\nClaim Offer\\n\\n# Recent Articles\\n\\n13 NFL Coordinator Changes & Fantasy Football Impact (2024)\\n\\n19h ago\\n\\nLate-Round Quarterback Best Ball Draft Strategy (2024 Fantasy Football)\\n\\n19h ago\\n\\nFantasy Football Rumors & News: Tee Higgins, Geno Smith, Derek Carr (2024)\\n\\n20h ago\\n\\n2024 NFL Free Agents: Noah Fant, Gerald Everett, Mike Gesicki, Austin Hooper\\n\\n22h ago\\n\\nDynasty Rookie Draft Advice: Jalen McMillan, Johnny Wilson, Jamari Thrash\\n(2024)\\n\\n22h ago\\n\\nFantasy Football Mock Draft: Breece Hall, Kyren Williams, Sam LaPorta (2024)\\n\\n22h ago\\n\\nDynasty Trade Advice: Joe Burrow, Tee Higgins, Derrick Henry, Tyjae Spears\\n(2024 Fantasy Football)\\n\\n22h ago\\n\\n## Command Center\\n\\n## League Hub Navigation\\n\\nSync your league\\n\\nSync\\n\\n-\\n\\nGrade\\n\\n-\\n\\nDrafts\\n\\nCheat Sheet\\n\\nDraft Kit\\n\\nDraft Intel\\n\\nDraft Assistant\\n\\nPlayer Rankings\\n\\n## League Hub Console\\n\\n## League Sync\\n\\n### Sync your NFL  \\nleague for FREE!\\n\\nImport your fantasy league and get personalized advice for your team.\\n\\nSync Your League\\n\\nAlready Synced? Sign In\\n\\n## Mock Draft\\n\\n-\\n\\nAverage Mock  \\nDraft Grade\\n\\n-\\n\\nTotal Mock  \\nDrafts\\n\\nMock Draft Now\\n\\n## Draft Toolkit\\n\\nDraft Kit\\n\\nDraft Intel\\n\\nCheat Sheet\\n\\nDraft Assistant\\n\\n## Player Rankings\\n\\n## Player Rankings\\n\\n  * Draft Rankings\\n\\nView\\n\\n  * Dynasty Rankings\\n\\nView\\n\\n  * FantasyPros Expert Rankings\\n\\nView\\n\\n  * Best Ball Rankings\\n\\nView\\n\\n  * Rookie Rankings\\n\\nView\\n\\nClose league hub\\n\\n  *     * NFL\\n    * MLB\\n    * NBA\\n    * NHL\\n  *     * AdvertisersAdvertise With Us\\n    * AffiliatesAffiliate Application\\n    * Expert Platform\\n    * Gift Cards\\n  *     * Mobile Apps\\n    * News Desk\\n    * Shop __\\n    * Sports Betting\\n\\n  * __FantasyPros on YouTube\\n  * __FantasyPros on Twitter\\n  * __FantasyPros on Instagram\\n  * __FantasyPros on Facebook\\n\\n  * Privacy\\n  * Do Not Sell\\n  * Terms\\n  * Accessibility\\n  * Company\\n  * Blog\\n  * Jobs\\n  * Contact\\n  * Help\\n  * Premium\\n  * Sign Up\\n  * Sign In\\n\\n© Copyright 2010-2024 FantasyPros.com  \\nDo Not Sell My Personal Information\\n\\n__\\n\\nDo Not Sell\\n\\nAre you looking to contact Customer Support about a subscription or account\\nrelated question?\\n\\n  \\n\\nYes\\n\\n  \\n\\nNo, I'm a California resident looking for the California Consumer Privacy Act\\nform\\n\\nCurrent Article\\n\\n|\\n\\n__3 min read\\n\\nNext Up - **13 NFL Coordinator Changes & Fantasy Football Impact (2024)**\\n\\nNext Article  \\n\\n\", metadata={'source': 'https://www.fantasypros.com/2023/11/nfl-dfs-week-10-stacking-advice-picks-2023-fantasy-football/'}),\n",
       " Document(page_content=\"By accessing this site you agree to our  \\nprivacy policy and terms of use.  Accept\\n\\nSkip to main content\\n\\n__\\n\\nPremium __\\n\\n< Back Draft Wizard __\\n\\n< Back My Playbook __\\n\\n< Back NFL __\\n\\n< Back MLB __\\n\\n< Back NBA __\\n\\n< Back NHL __\\n\\n< Back DFS __\\n\\n< Back BettingPros\\n\\n< Back  More... __\\n\\n  *     * PGA\\n\\n< Back Draft Wizard __\\n\\n< Back My Playbook __\\n\\nGame DayLive!\\n\\nPremium\\n\\n__\\n\\n__\\n\\n__\\n\\nSearch for more!\\n\\nYou can now search for Tools, Reports, Articles, Rankings, as well as Players\\nand Teams.\\n\\nStart New Search\\n\\nSign In\\n\\n__\\n\\n## Loading your leagues\\n\\n__\\n\\n  * My Account\\n  * My Leagues\\n  * Premium\\n  * Mobile Apps\\n  * Discord Chat\\n  * Forum\\n  * Sign In\\n  * Sign Up\\n  * Help\\n  * Sign Out\\n\\nHelp\\n\\nNew\\n\\n  * NFL Home\\n  * Tools __\\n    *       * Draft\\n      * Draft Simulator\\n      * Mock Draft Lobby\\n      * Live Draft Assistant\\n      * Draft Kit\\n      * Best Ball Draft Kit\\n      * Cheat Sheet Creator\\n      * Salary Cap Simulator\\n      * Salary Cap Calculator\\n      * Perfect Draft Challenge\\n      * Draft Analyzer\\n      * QBBC Finder\\n      * Draft Order Generator\\n      * Draft Software\\n      * Who Should I Draft?\\n    *       * In-Season\\n      * My Playbook\\n      * Who Should I Start?\\n      * Start/Sit Assistant\\n      * Auto-Pilot\\n      * Waiver Central\\n      * Waiver Assistant\\n      * Free Agent Finder\\n      * Trade Analyzer\\n      * Trade Central\\n      * Trade Finder\\n      * Multi-League Assistant\\n      * Game Day\\n    *       * Sports Betting\\n      * Prop Bet Cheat Sheet\\n      * PrizePicks Cheat Sheet\\n      * Prop Bet Analyzer\\n      * Game Picks\\n      * Bet Dashboard\\n      * Live Odds\\n      * Mobile App\\n  * Rankings __\\n    *       * 2024 Draft\\n      * Expert Consensus Rankings\\n      * Half PPR Rankings\\n      * PPR Rankings\\n      * Standard Rankings\\n      * IDP Rankings\\n      * FantasyPros Experts\\n      * Sleeper Rankings\\n      * Player Notes\\n      * Average Draft Position\\n      * Cheat Sheets\\n      * Expert Directory\\n      * Best Ball ADP\\n    *       * Dynasty\\n      * Expert Consensus Rankings\\n      * Rookie Rankings\\n      * Trade Value Chart\\n      * Prospect Rankings\\n      * IDP Rankings\\n      * FantasyPros Experts\\n      * Expert Directory\\n    *       * Weekly\\n      * Expert Consensus Rankings\\n      * Half PPR Rankings\\n      * PPR Rankings\\n      * Standard Rankings\\n      * IDP Rankings\\n      * FantasyPros Experts\\n      * Waiver Wire\\n      * Expert Directory\\n      * Player Notes\\n    *       * Rest of Season\\n      * Expert Consensus Rankings\\n      * Half PPR Rankings\\n      * PPR Rankings\\n      * Standard Rankings\\n      * Player Notes\\n      * Expert Directory\\n  * Projections __\\n    * Weekly\\n    * Full Season\\n  * Stats __\\n    * Fantasy Football Stats\\n    * Most Targeted Players\\n    * NFL Snap Count Leaders\\n    * NFL Red Zone Stats\\n    * Advanced Quarterback Stats\\n    * Advanced Running Back Stats\\n    * Advanced Wide Receiver Stats\\n    * Advanced Tight End Stats\\n    * Fantasy Points Allowed\\n  * Research __\\n    *       * Research\\n      * 2023 Projections\\n      * Weekly Projections\\n      * Projected Leaders\\n      * Betting Odds\\n      * Prop Bet Cheat Sheet\\n      * Prop Bet Analyzer\\n      * Bet Dashboard\\n      * Game Picks\\n      * Inactives List\\n      * Injuries\\n      * Player Insights\\n      * Strategy Tips\\n      * Research\\n      * Research\\n      * Average Draft Position\\n      * Sleeper Rankings\\n    *       * Reports\\n      * Fantasy Leaders\\n      * Stats Leaders\\n      * Points Distribution\\n      * Target Leaders\\n      * Targets by Team\\n      * Snap Count Leaders\\n      * Snap Count Analysis\\n      * Fantasy Depth Charts\\n      * RB Handcuffs\\n      * Fantasy Points Allowed\\n      * Red Zone Stats\\n      * Advanced Stats\\n      * Value Based Drafting\\n      * Boom Bust Report\\n      * Touchdown Regression\\n      * Free Agency Tracker\\n    *       * Schedules\\n      * NFL Schedule\\n      * Opponents for Every Team\\n      * Strength of Schedule\\n      * Matchup Calendar\\n      * Bye Week Cheat Sheet\\n      * Bye Weeks by Team\\n    *       * Experts\\n      * In-Season Accuracy\\n      * Draft Accuracy\\n      * DFS Accuracy\\n      * Videos\\n      * Consensus Sleepers\\n      * Consensus Busts\\n      * Dissenting Opinions\\n      * Expert Directory\\n  * NFL Draft __\\n    *       * NFL Draft\\n      * 2024 Draft Guide\\n      * Mock Drafts\\n      * Consensus Mock Draft\\n      * Big Board\\n      * Prospect Rankings\\n      * Mock Draft Accuracy\\n      * Podcast\\n      * Videos\\n      * Articles\\n    *       * Combine Results\\n      * Overall\\n      * 40-Yard Dash\\n      * Bench Press\\n      * Vertical Jump\\n      * Broad Jump\\n      * 20-Yard Shuttle\\n  * Dynasty __\\n    * Dynasty Draft Kit\\n    * Trade Value Chart\\n    * Dynasty Rankings\\n    * Rookie Rankings\\n    * Mock Drafts\\n    * Rookie Draft Simulator\\n    * Dynasty Draft Simulator\\n    * Articles\\n    * Podcast\\n  * Articles __\\n    * Sleepers\\n    * Busts\\n    * Dynasty\\n    * Strategy\\n    * Trade Advice\\n    * Daily Fantasy\\n  * News __\\n    *       * Player Updates\\n      * All News\\n      * Breaking\\n      * Rumors\\n      * Injuries\\n      * Transactions\\n      * NFL Draft\\n    *       * Featured\\n      * Injuries\\n      * Sleepers\\n      * Busts\\n      * Strategy\\n      * Start/Sit\\n      * Waiver Wire\\n      * Rankings\\n      * Dynasty\\n      * Player Profiles\\n      * Rookies\\n      * Partner Articles\\n      * Podcasts\\n      * Videos\\n  * Podcast __\\n    * Fantasy Football\\n    * Dynasty Football\\n    * Game Changers\\n    * The Kickoff\\n    * Promo Codes\\n  * Apps\\n\\n#  16 Players to Buy Low & Sell High (2023 Fantasy Football)\\n\\nby  FantasyPros Staff  |  @FantasyPros |  Nov 9, 2023\\n\\nWinning the trade market is at least as important as nailing the draft. Aside\\nfrom the waiver wire’s massive impact in the season’s first few weeks, trading\\nis the best way to improve your squad quickly. Great buy-low moves can set you\\nup for victory in the short term and down the stretch. Solid sell-high deals\\ncan get you big hauls for overachieving players who likely won’t sustain their\\nproduction.\\n\\nLet’s take a look at players to buy and sell this week. And be sure to check\\nout our weekly trade value chart with updated values for all players.\\n\\n**Check out the rest of our weekly fantasy football advice**\\n\\n_**Q: Who is your favorite buy-low trade candidate at this point in the season\\nand why? Also, who are you willing to give up for him?**_\\n\\n### **Justin Herbert (QB – LAC)\\n\\n**\\n\\n“Buy-low on **Justin Herbert**. Week 9 was unkind to Herbert as he only passed\\nfor 136 yards, but there are far better days ahead for the young phenom. The\\nJets were an elite, smothering pass defense, and rather than forcing the ball\\ninto tight coverage as Josh Allen\\n\\ndid, the Chargers opted to feed Austin Ekeler\\n\\nrepeatedly, taking advantage of average run defense. The time to upgrade from\\nTagovailoa or Stroud is now. Send out offers while Herbert’s value is at its\\nlowest.”  \\n– Aaron St Denis (The League Winners)\\n\\n### **Kyler Murray (QB – ARI)\\n\\n**\\n\\n“This is your last chance to get **Kyler Murray** on the cheap. He hasn’t\\nstarted yet, and many owners wonder if he will bounce back. Plus, the Arizona\\nCardinals look dreadful! Kyler has proved he can be a fantasy asset by having\\n3,700+ yards passing three of the last four years (ACL injury prevented last\\nyear) and 400+ yards rushing every year he has been in the league! He could be\\nthe piece you need for a team that drafted a quarterback early who is injured\\nor disappointing and could be had for a package of a WR2 like Diontae Johnson\\n\\n, Jahan Dotson\\n\\n, and/or RB2 like James Cook\\n\\nor Jerome Ford\\n\\nin single QB leagues if the owner who was holding him is willing to part with\\nhim.”  \\n– Adam Dove (The Fantasy Couriers)\\n\\n### **Marquise Brown (WR – ARI)\\n\\n**\\n\\n“**Marquise Brown** has been the WR41 over the past four weeks, averaging 7.1\\nhalf-point PPR fantasy points per game, scoring fewer than 6.5 in all but one\\ncontest. However, the veteran had scored at least 13.1 fantasy points in four\\nconsecutive games before the cold streak. Meanwhile, Kyler Murray\\n\\nis on track to play in Week 10. More importantly, Brown is Arizona’s clear-cut\\nNo. 1 weapon, seeing 34 more targets than any other Cardinal this season. Last\\nyear, the former Oklahoma star averaged 13.7 fantasy points per game and had a\\n26% TPPR (per Fantasy Points Data) with Murray under center. I would flip\\nJakobi Meyers\\n\\nfor Brown in a heartbeat.”  \\n– Mike Fanelli (FantasyPros)\\n\\n### **Tony Pollard (RB – DAL)\\n\\n**\\n\\n“At this point, it’s still **Tony Pollard**. He might not be as efficient\\ncoming off the leg injury and getting a bigger workload, but it’s offset by a\\nbigger workload. He also has plenty of positive TD regression coming his way.\\nI’d be willing to give up any of Kenneth Walker III\\n\\n, D’Andre Swift\\n\\n, Adam Thielen\\n\\n, or T.J. Hockenson\\n\\nto get Pollard.”  \\n– Robert Norton (Last Word On Sports)\\n\\n“**Tony Pollard** may have scored a ridiculously unsustainable 9 of his 12\\ntouchdowns in 2022 from 10 or more yards from the end zone. But it isn’t fair\\nto call his two months without a score in 2023 negative regression. The new\\nCowboys starter has seen new opportunities to score without Ezekiel Elliott\\n\\nin Dallas. But Pollard has been insanely unlucky to score just twice despite\\ntop three totals of 33 red zone carries and 10 carries inside the 5-yard line.\\nI expect Pollard to rebound and score four or more touchdowns in the second\\nhalf of the season, and I would try to trade potentially declining fantasy\\nassets like Saquon Barkley\\n\\nand Jordan Addison\\n\\nfor him.”  \\n– Scott Spratt (FTN)\\n\\n### **De’Von Achane (RB – MIA)\\n\\n**\\n\\n“While some might suggest that a big-name player like **De’Von Achane** cannot\\nbe a buy-low candidate, I will push back. He has a bye week this week, and\\nsome fantasy managers cannot afford another loss (no matter what their plan\\noriginally was in terms of waiting on Achane). Given he is a top 5RB in my\\neyes, yet can be had well outside of the top 5 RB value, well, that’s a buy-\\nlow in my eyes. It’s just a big-name buy-low. Selling combos of Josh Jacobs\\n\\n, Joe Mixon\\n\\n, Adam Thielen\\n\\n, Amari Cooper\\n\\nis advised.”  \\n– Smitty (TheFantasyFootballShow)\\n\\n“**De’Von Achane** exploded onto the scene and compiled over 100 points in\\njust three weeks. He is just weeks away from returning, and the time to buy is\\nnow. Take advantage of an impatient owner and go stash Achane. Ask yourself\\nthis question. When the fantasy football playoffs come around, do I want\\nAchane on my team, or do I want to be facing him? Go get Achane!”  \\n– David Heilman (Sports Gambling Podcast Network)\\n\\n### **DeAndre Hopkins (WR – TEN)\\n\\n**\\n\\n“I’ve seen a lot of fantasy analysts advising folks to sell high on **DeAndre\\nHopkins** as a one-game wonder, but I think that might be a mistake. The\\nTitans’ schedule looks pretty good overall, especially weeks 15, 16, & 17,\\nwhich are Houston, Seattle, and Houston, respectively. Hell, that’s almost as\\ngood as my incredible jokes, haha! There could be some major shootouts during\\nthe fantasy playoffs, and Hopkins will be plenty motivated to stick it to his\\nold team. It wouldn’t shock me if he says something to QB Will Levis\\n\\nlike, “The Texans are mine; just throw me the ball, rook, and I’ll take care\\nof the rest.” Who am I willing to give up for DeAndre Hopkins? Garrett Wilson\\n\\n, Diontae Johnson\\n\\n, George Pickens\\n\\n, Zay Flowers\\n\\n, or Jakobi Meyers\\n\\n.”  \\n– Mark Ringo (Sleepers and Busts)\\n\\n### **DK Metcalf (WR – SEA)\\n\\n**\\n\\n“**DK Metcalf** is a great buy-low player right now. He has been under ten\\nfantasy points in three of the last four weeks. It’s tough to buy into the\\nSeattle passing attack due to how bad it has been. On the field, he continues\\nto lead this team in targets. He has a big play ability that will get loose at\\nsome point. Seattle receivers have the fifth easiest remaining schedule in\\nfantasy football. I’d expect Metcalf to be about to bounce back in the second\\nhalf of the season. I’d look to sell off Jaydlen Waddle and get Metcalf Plus\\nin a trade. ”  \\n– Steven Pintado (The Fantasy Coaches)\\n\\n### **Justin Madubuike (DT – BAL)\\n\\n**\\n\\n“Defensive tackle **Justin Madubuike** has burst onto the IDP scene this\\nseason and is currently the DL8 on the season. The best part is that\\nMadubuike’s points aren’t just from one or two games, and his points have been\\nquite consistent this season, only having one game finished this season under\\neight fantasy points. Eight sacks on the season, Madubuike is on a six-game\\nsack streak and always adds in a few tackles to sweeten up his fantasy points.\\nI believe a solid LB2/Flex option would get the deal done, and in dynasty\\nformats, start the conversation with a 2024 fourth-round pick.”  \\n– Mason “Mase” Riney (Fantasy Six Pack)\\n\\n_**Q: Who is your favorite sell-high candidate at this point in the season and\\nwhy? Also, who would you try to get in return?**_\\n\\n### **C.J. Stroud (QB – HOU)\\n\\n**\\n\\n“My sell-high is **C.J. Stroud**. Don’t get me wrong, Stroud is excellent.\\nThis sell-high is about his value currently. Today, I saw Stroud traded\\nstraight up for Burrow. In a dynasty league, I not only saw a manager give up\\nJoe Burrow\\n\\nto acquire Stroud, but they threw in a third-round pick for good measure.\\nWhile Stroud has been great, he is clearly due for some regression. Cash out\\nnow and trade him to a panicked manager with a struggling top-6 quarterback\\nsuch as Burrow, Jackson, or Stroud.”  \\n– Aaron St Denis (The League Winners)\\n\\n“There seemed to be a healthy skepticism when Will Levis\\n\\nthrew four touchdowns in his debut but threw them from 16, 33, 47 and 61 yards\\nfrom the end zone, distances that netted him a 3.88 expected touchdown surplus\\nthat is the most by a quarterback in a game this season and that suggested a\\nlikely regression in future weeks. But **C.J. Stroud** threw his five Week 9\\ntouchdowns from a similar 9, 14, 15, 29, and 75 yards from the end zone and\\nnetted a 3.72 expected touchdown surplus, and I sense the public is ready to\\nmake the Texans rookie a slam-dunk top eight quarterback the rest of the\\nseason. I buy Stroud as a franchise quarterback, but I don’t think he is sure\\nto be more productive than Trevor Lawrence\\n\\nor Jared Goff\\n\\nfor the rest of 2023. And if you had an alternative at the position, I would\\nsee if you could trade Stroud high for a less popular player like Chris Godwin\\n\\nor George Pickens\\n\\n.”  \\n– Scott Spratt (FTN)\\n\\n### **Gus Edwards (RB – BAL)\\n\\n**\\n\\n“The “Gus Bus” has been running on TDs recently! **Gus Edwards** has scored\\ntouchdowns each of the last three weeks, with three in Week 8 and two in Week\\n9. That being said, his carries went down to 5 in Week 9 as rookie Keaton\\nMitchell\\n\\ntook the spotlight. Sell Gus on touchdowns for a running back with more volume\\n(Isiah Pacheco\\n\\n, Rashaad White, Alexander Mattison\\n\\n) before he becomes solely a TD vulture.”  \\n– Adam Dove (The Fantasy Couriers)\\n\\n“**Gus Edwards** has been on fire lately. He is the RB1 over the past three\\nweeks, averaging 22.2 half-point PPR fantasy points and two rushing touchdowns\\nper game. However, over 54% of his fantasy production came from the six\\nrushing touchdowns. Meanwhile, the veteran averaged only 6.5 fantasy points\\nper game over the first six contests. He had more than six fantasy points only\\nonce, in the Week 2 matchup where Edwards found the end zone. The veteran\\nrunning back is a touchdown-or-bust player, and Keaton Mitchell\\n\\ncould start cutting into his workload. Furthermore, his rest of the season\\nschedule isn’t fantasy-friendly. Try to flip Edwards and a WR3 for Kenneth\\nWalker or Tony Pollard\\n\\n.”  \\n– Mike Fanelli (FantasyPros)\\n\\n### **Raheem Mostert (RB – MIA)\\n\\n**\\n\\n“**Raheem Mostert** feels like the low-hanging fruit here. Selling high last\\nweek was probably the best move as he’s now entering the bye week, and De’Von\\nAchane\\n\\nis likely returning in Week 11, so the return might not be there. I’d rather\\nhave DJ Moore\\n\\n, Diontae Johnson\\n\\n, Tyler Lockett\\n\\n, or Zay Flowers\\n\\n, assuming you need WR help.”  \\n– Robert Norton (Last Word On Sports)\\n\\n### **Saquon Barkley (RB – NYG)\\n\\n**\\n\\n“One player I recommend selling high right now is **Saquon Barkley**. He keeps\\ngetting hurt, even if he finds a way back onto the field. He also plays in an\\nawful offense, and he’s asked to do too much with very little to work with,\\nwhich is a recipe for injury all on its own (even for an RB that doesn’t have\\na huge risk of injury). Sell him across position to maximize value, as many\\nwill overpay for an RB right now. Think Cooper Kupp\\n\\n, Puka Nacua\\n\\nand Davante Adams\\n\\n.”  \\n– Smitty (TheFantasyFootballShow)\\n\\n### **Ja’Marr Chase (WR – CIN)\\n\\n**\\n\\n“TIE… RB **Saquon Barkley** and **Ja’Marr Chase**. I’m offering a Ringo fall\\nspecial- two great predictions and some hysterical jokes from a fantasy/comic\\nlegend for one low price. Okay, two lousy predictions and the usual lame jokes\\nfrom yours truly for one low price, haha. The Giants’ offense is in major\\ntrouble with Daniel Jones\\n\\nout for the year, and yet, somehow, Saquon is still relatively high on several\\ntrade value charts I’ve looked at. Yes, I know about Saquon’s volume, but what\\nseparates a championship fantasy lineup from the runner-up are TDs, and the\\nGiants will struggle to score. As for Chase, he was in severe pain during that\\nBills’ game, and back injuries usually feel worse afterward. The idea of my\\nstar WR, with a shaky back, getting blasted by defenders every time he gets\\nthrown a pass doesn’t inspire much confidence. Who would I try to get in\\nreturn for Saquon Barkley? RB Derrick Henry\\n\\nand TE Taysom Hill\\n\\nor RB Derrick Henry\\n\\nand WR DeAndre\\n\\nHopkins. Who would I try to get in return for Ja’Marr Chase? The same players\\nI listed above in the Saquon deal, or if that wasn’t possible, maybe a one-\\nfor-one swap for Travis Kelce\\n\\nor Cee Dee Lamb.”  \\n– Mark Ringo (Sleepers and Busts)\\n\\n### **Josh Jacobs (RB – LV)\\n\\n**\\n\\n“**Josh Jacobs** is coming off his second-best game of the season in week\\nnine. While Jacobs has had more success, he still runs at 3.2 YPC. I can’t\\nimagine the team competing with a rookie quarterback. Jocabs has the sixth-\\nhardest remaining schedule of the season for fantasy running backs. Let’s not\\nforget he still has a bye week to deal with. I’d be looking to sell high on\\nJacobs to acquire like De’Von Achane or Tony Pollard\\n\\n.”  \\n– Steven Pintado (The Fantasy Coaches)\\n\\n### **Tank Dell (WR – HOU)\\n\\n**\\n\\n“**Tank Dell** blew up this weekend, and unfortunately, the points were wasted\\non a lot of benches. Just remember why he was on so many benches. Dell had\\njust 18.3 points in his last three games. C.J. Stroud\\n\\nlooked great, but five touchdown games with 470 yards passing don’t come\\naround too often. Pair Dell up with another WR or RB and tier up. Don’t get\\ncaught up chasing points from last week.”  \\n– David Heilman (Sports Gambling Podcast Network)\\n\\n### **Drue Tranquill (LB – KC)\\n\\n**\\n\\n“**Drue Tranquill** is someone I am willing to ship off of my roster to a team\\nin need of a linebacker. He didn’t have the hottest start to the season, but\\nsince Week 3, he has been very efficient for fantasy managers, scoring over 11\\nfantasy points for six consistent weeks(WK3-WK8). Tranquill is a player who is\\nalso sent a few times a game to pressure the quarterback and has four sacks on\\nthe season to show for his efforts in pass rushing. Not to mention, Tranquill\\nwill see the field more than any other Kansas City linebacker, with fellow\\nlead linebacker Nick Bolton\\n\\ncurrently on injured reserve until Week 16. I would attempt to trade for a DL2\\ntype of player or, in dynasty, get a fourth or third-round future pick in\\nreturn. ”  \\n– Mason “Mase” Riney (Fantasy Six Pack)\\n\\n**Subscribe** : **Apple Podcasts** | **Spotify** | **Google Podcasts** | **SoundCloud** | **iHeartRadio**\\n\\nFeatured Pros NFL Trade Advice Justin Herbert Josh Allen Austin Ekeler Kyler\\nMurray Diontae Johnson Jahan Dotson James Cook Jerome Ford Marquise Brown\\nJakobi Meyers Tony Pollard Kenneth Walker III D’Andre Swift Adam Thielen T.J.\\nHockenson Ezekiel Elliott Saquon Barkley Jordan Addison De’Von Achane Josh\\nJacobs Joe Mixon Amari Cooper DeAndre Hopkins Will Levis Garrett Wilson George\\nPickens Zay Flowers DK Metcalf Justin Madubuike C.J. Stroud Joe Burrow Trevor\\nLawrence Jared Goff Chris Godwin Gus Edwards Keaton Mitchell Isiah Pacheco\\nAlexander Mattison Raheem Mostert DJ Moore Tyler Lockett Cooper Kupp Puka\\nNacua Davante Adams Ja’Marr Chase Daniel Jones Derrick Henry Taysom Hill\\nDeAndre  Travis Kelce Tank Dell Drue Tranquill Nick Bolton\\n\\n__ YouTube\\n\\n0 K\\n\\n__ Follow\\n\\n## More Articles\\n\\n### 13 NFL Coordinator Changes & Fantasy Football Impact (2024)\\n\\nby **Chad Workman** | 11 min read\\n\\n### Late-Round Quarterback Best Ball Draft Strategy (2024 Fantasy Football)\\n\\nby **Tom Strachan** | 4 min read\\n\\n### Fantasy Football Rumors & News: Tee Higgins, Geno Smith, Derek Carr (2024)\\n\\nby **FantasyPros Staff** | 1 min read\\n\\n### 2024 NFL Free Agents: Noah Fant, Gerald Everett, Mike Gesicki, Austin\\nHooper\\n\\nby **FantasyPros Staff** | 3 min read\\n\\n# About Author\\n\\nFantasyPros Staff\\n\\n|\\n\\n@FantasyPros\\n\\nFantasyPros Staff Account\\n\\nStart here! New to FantasyPros? Sign up to get free, custom advice for your\\nFantasy Team.\\n\\nContinue with Google Continue with Apple Create account\\n\\nBy registering or logging in, you agree to our Terms of Use and Privacy Policy\\n\\n# Go Premium For FREE\\n\\nMake a minimum deposit with a partner and get up to a 1-Year Subscription for\\nFREE. Paid entry at select sites required.\\n\\nClaim Offer\\n\\n# Recent Articles\\n\\n13 NFL Coordinator Changes & Fantasy Football Impact (2024)\\n\\n19h ago\\n\\nLate-Round Quarterback Best Ball Draft Strategy (2024 Fantasy Football)\\n\\n19h ago\\n\\nFantasy Football Rumors & News: Tee Higgins, Geno Smith, Derek Carr (2024)\\n\\n20h ago\\n\\n2024 NFL Free Agents: Noah Fant, Gerald Everett, Mike Gesicki, Austin Hooper\\n\\n22h ago\\n\\nDynasty Rookie Draft Advice: Jalen McMillan, Johnny Wilson, Jamari Thrash\\n(2024)\\n\\n22h ago\\n\\nFantasy Football Mock Draft: Breece Hall, Kyren Williams, Sam LaPorta (2024)\\n\\n22h ago\\n\\nDynasty Trade Advice: Joe Burrow, Tee Higgins, Derrick Henry, Tyjae Spears\\n(2024 Fantasy Football)\\n\\n22h ago\\n\\n## Command Center\\n\\n## League Hub Navigation\\n\\nSync your league\\n\\nSync\\n\\n-\\n\\nGrade\\n\\n-\\n\\nDrafts\\n\\nCheat Sheet\\n\\nDraft Kit\\n\\nDraft Intel\\n\\nDraft Assistant\\n\\nPlayer Rankings\\n\\n## League Hub Console\\n\\n## League Sync\\n\\n### Sync your NFL  \\nleague for FREE!\\n\\nImport your fantasy league and get personalized advice for your team.\\n\\nSync Your League\\n\\nAlready Synced? Sign In\\n\\n## Mock Draft\\n\\n-\\n\\nAverage Mock  \\nDraft Grade\\n\\n-\\n\\nTotal Mock  \\nDrafts\\n\\nMock Draft Now\\n\\n## Draft Toolkit\\n\\nDraft Kit\\n\\nDraft Intel\\n\\nCheat Sheet\\n\\nDraft Assistant\\n\\n## Player Rankings\\n\\n## Player Rankings\\n\\n  * Draft Rankings\\n\\nView\\n\\n  * Dynasty Rankings\\n\\nView\\n\\n  * FantasyPros Expert Rankings\\n\\nView\\n\\n  * Best Ball Rankings\\n\\nView\\n\\n  * Rookie Rankings\\n\\nView\\n\\nClose league hub\\n\\n  *     * NFL\\n    * MLB\\n    * NBA\\n    * NHL\\n  *     * AdvertisersAdvertise With Us\\n    * AffiliatesAffiliate Application\\n    * Expert Platform\\n    * Gift Cards\\n  *     * Mobile Apps\\n    * News Desk\\n    * Shop __\\n    * Sports Betting\\n\\n  * __FantasyPros on YouTube\\n  * __FantasyPros on Twitter\\n  * __FantasyPros on Instagram\\n  * __FantasyPros on Facebook\\n\\n  * Privacy\\n  * Do Not Sell\\n  * Terms\\n  * Accessibility\\n  * Company\\n  * Blog\\n  * Jobs\\n  * Contact\\n  * Help\\n  * Premium\\n  * Sign Up\\n  * Sign In\\n\\n© Copyright 2010-2024 FantasyPros.com  \\nDo Not Sell My Personal Information\\n\\n__\\n\\nDo Not Sell\\n\\nAre you looking to contact Customer Support about a subscription or account\\nrelated question?\\n\\n  \\n\\nYes\\n\\n  \\n\\nNo, I'm a California resident looking for the California Consumer Privacy Act\\nform\\n\\nCurrent Article\\n\\n|\\n\\n__7 min read\\n\\nNext Up - **13 NFL Coordinator Changes & Fantasy Football Impact (2024)**\\n\\nNext Article  \\n\\n\", metadata={'source': 'https://www.fantasypros.com/2023/11/players-to-buy-low-sell-high-trade-advice-2023-fantasy-football/'})]"
      ]
     },
     "execution_count": 15,
     "metadata": {},
     "output_type": "execute_result"
    }
   ],
   "source": [
    "docs_transformed"
   ]
  },
  {
   "cell_type": "markdown",
   "id": "93d54a0b-bf6c-4a24-b888-4c3283b9ccf6",
   "metadata": {},
   "source": [
    "### Create PromptTemplate and LLMChain"
   ]
  },
  {
   "cell_type": "code",
   "execution_count": 10,
   "id": "3bd688c2-25ac-4d65-88c6-635f9c95ada4",
   "metadata": {
    "tags": []
   },
   "outputs": [],
   "source": [
    "prompt_template = \"\"\"\n",
    "### [INST] Instruction: Answer the question based on your fantasy football knowledge. Here is context to help:\n",
    "\n",
    "{context}\n",
    "\n",
    "### QUESTION:\n",
    "{question} [/INST]\n",
    " \"\"\"\n",
    "\n",
    "# Create prompt from prompt template \n",
    "prompt = PromptTemplate(\n",
    "    input_variables=[\"context\", \"question\"],\n",
    "    template=prompt_template,\n",
    ")\n",
    "\n",
    "# Create llm chain \n",
    "llm_chain = LLMChain(llm=mistral_llm, prompt=prompt)"
   ]
  },
  {
   "cell_type": "code",
   "execution_count": 11,
   "id": "727e50d1-5739-4a65-8745-aaa4c9c47189",
   "metadata": {
    "tags": []
   },
   "outputs": [
    {
     "name": "stderr",
     "output_type": "stream",
     "text": [
      "/home/alex/.pyenv/versions/3.11.7/envs/rag/lib/python3.11/site-packages/transformers/generation/configuration_utils.py:410: UserWarning: `do_sample` is set to `False`. However, `temperature` is set to `0.2` -- this flag is only used in sample-based generation modes. You should set `do_sample=True` or unset `temperature`.\n",
      "  warnings.warn(\n",
      "Setting `pad_token_id` to `eos_token_id`:2 for open-end generation.\n"
     ]
    },
    {
     "data": {
      "text/plain": [
       "{'context': '',\n",
       " 'question': 'Should I start Gibbs in week 16 for fantasy?',\n",
       " 'text': \"\\nTo provide an accurate answer, I would need more information about the specific circumstances of your fantasy football league and roster. However, I can give you some general advice that might help you make a decision.\\n\\nFirstly, it's important to consider the matchup. Who is Gibbs playing against in week 16? If they have a strong defense or if Gibbs has struggled against them in the past, it might be worth considering other options.\\n\\nSecondly, what are the alternatives available on your bench or waiver wire? Are there any other running backs who have a better matchup or recent performance? It's important to weigh the potential upside of starting Gibbs against the potential downside of benching a player with higher upside.\\n\\nLastly, what are the playoff implications of this decision? Are you currently in a must-win situation or do you have some room for error? This can impact how aggressive or conservative you want to be with your lineup decisions.\\n\\nBased solely on Gibbs' recent performance and the fact that he is a solid RB2 option, I would lean towards starting him in week 16. However, without more context, it's difficult to say for certain.\"}"
      ]
     },
     "execution_count": 11,
     "metadata": {},
     "output_type": "execute_result"
    }
   ],
   "source": [
    "llm_chain.invoke({\"context\": \"\", \"question\": \"Should I start Gibbs in week 16 for fantasy?\"})"
   ]
  },
  {
   "cell_type": "markdown",
   "id": "c1e75d34-cf63-49a8-a671-88ccb5444367",
   "metadata": {},
   "source": [
    "### Build RAG Chain"
   ]
  },
  {
   "cell_type": "code",
   "execution_count": 21,
   "id": "a1e18178-46f2-4b87-86c4-d13ff5219968",
   "metadata": {
    "tags": []
   },
   "outputs": [
    {
     "name": "stderr",
     "output_type": "stream",
     "text": [
      "/home/alex/.pyenv/versions/3.11.7/envs/rag/lib/python3.11/site-packages/transformers/generation/configuration_utils.py:410: UserWarning: `do_sample` is set to `False`. However, `temperature` is set to `0.2` -- this flag is only used in sample-based generation modes. You should set `do_sample=True` or unset `temperature`.\n",
      "  warnings.warn(\n",
      "Setting `pad_token_id` to `eos_token_id`:2 for open-end generation.\n"
     ]
    }
   ],
   "source": [
    "rag_chain = ( \n",
    " {\"context\": retriever, \"question\": RunnablePassthrough()}\n",
    "    | llm_chain\n",
    ")\n",
    "\n",
    "result = rag_chain.invoke(\"What can help me win in fantasy football?\")"
   ]
  },
  {
   "cell_type": "code",
   "execution_count": 22,
   "id": "ef54e9e3-4fa5-4676-baaf-8b11e3f09dc0",
   "metadata": {
    "tags": []
   },
   "outputs": [
    {
     "data": {
      "text/plain": [
       "[Document(page_content='In this article, we’ll look at some standout statistics heading into Week 10\\nand how they can impact your fantasy football team moving forward. Whether\\nyou’re fighting for a playoff spot or looking to secure a bye week, the\\ninsights and analysis in this article will help you make the right moves to\\nwin your league.', metadata={'source': 'https://www.fantasypros.com/2023/11/5-stats-to-know-before-setting-your-fantasy-lineup-week-10/'}),\n",
       " Document(page_content='**Check out the rest of our weekly fantasy football advice**', metadata={'source': 'https://www.fantasypros.com/2023/11/players-to-buy-low-sell-high-trade-advice-2023-fantasy-football/'}),\n",
       " Document(page_content='Remember to read all the fantastic work here at FantasyPros and reach out on\\nTwitter at @jpep20 if you need extra help. Good luck in Week 10!', metadata={'source': 'https://www.fantasypros.com/2023/11/5-stats-to-know-before-setting-your-fantasy-lineup-week-10/'}),\n",
       " Document(page_content='Week 10 of the NFL season is here, and the fantasy football playoffs are fast\\napproaching. Of course, with every team battling for the playoffs, we lose\\nsignificant players in their bye weeks. This week, we lose the Kanas City\\nChiefs, Miami Dolphins and Philadelphia Eagles fantasy studs, so navigating\\nthe crucial stats is an essential part of our Week 10 research that will help\\nus win. As we enter the final stretch of the regular season, every point\\ncounts, and it’s crucial to stay up-to-date with the latest stats and trends\\nto get the edge over your opponents.', metadata={'source': 'https://www.fantasypros.com/2023/11/5-stats-to-know-before-setting-your-fantasy-lineup-week-10/'})]"
      ]
     },
     "execution_count": 22,
     "metadata": {},
     "output_type": "execute_result"
    }
   ],
   "source": [
    "result['context']"
   ]
  },
  {
   "cell_type": "code",
   "execution_count": 23,
   "id": "62895f39-9dfb-4f58-8312-72580ca03a20",
   "metadata": {
    "tags": []
   },
   "outputs": [
    {
     "name": "stdout",
     "output_type": "stream",
     "text": [
      "\n",
      "To increase your chances of winning in fantasy football, it's important to stay updated with the latest stats and trends, especially during the crucial stages of the season. With teams like the Kansas City Chiefs, Miami Dolphins, and Philadelphia Eagles on bye in Week 10, navigating the key stats becomes even more vital. By analyzing player and team performances, understanding matchups, and staying informed about injuries and other factors, you can make better decisions regarding your lineup and trades, ultimately helping you gain an edge over your opponents. You can also consider seeking expert advice from reputable sources such as FantasyPros, reading their articles, and engaging with them on Twitter for additional support.\n"
     ]
    }
   ],
   "source": [
    "print(result['text'])"
   ]
  },
  {
   "cell_type": "code",
   "execution_count": null,
   "id": "63253cbc-9de3-41b9-a5c8-b672333f479c",
   "metadata": {},
   "outputs": [],
   "source": []
  }
 ],
 "metadata": {
  "environment": {
   "kernel": "python3",
   "name": "common-gpu.m114",
   "type": "gcloud",
   "uri": "gcr.io/deeplearning-platform-release/base-gpu:m114"
  },
  "kernelspec": {
   "display_name": "Python 3 (ipykernel)",
   "language": "python",
   "name": "python3"
  },
  "language_info": {
   "codemirror_mode": {
    "name": "ipython",
    "version": 3
   },
   "file_extension": ".py",
   "mimetype": "text/x-python",
   "name": "python",
   "nbconvert_exporter": "python",
   "pygments_lexer": "ipython3",
   "version": "3.11.7"
  }
 },
 "nbformat": 4,
 "nbformat_minor": 5
}
